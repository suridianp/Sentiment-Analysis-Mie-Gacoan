{
  "nbformat": 4,
  "nbformat_minor": 0,
  "metadata": {
    "colab": {
      "provenance": []
    },
    "kernelspec": {
      "name": "python3",
      "display_name": "Python 3"
    },
    "language_info": {
      "name": "python"
    }
  },
  "cells": [
    {
      "cell_type": "code",
      "source": [
        "import warnings; warnings.simplefilter('ignore')\n",
        "import nltk\n",
        "\n",
        "try:\n",
        "    import google.colab\n",
        "    IN_COLAB = True\n",
        "    !wget https://raw.githubusercontent.com/taudata-indonesia/eLearning/master/taudataDDGsna.py\n",
        "    !mkdir data\n",
        "    !wget -P data/ https://raw.githubusercontent.com/taudata-indonesia/eLearning/master/data/contoh.pdf\n",
        "    !wget -P data/ https://raw.githubusercontent.com/taudata-indonesia/eLearning/master/data/slang.txt\n",
        "    !wget -P data/ https://raw.githubusercontent.com/taudata-indonesia/eLearning/master/data/stopwords_id.txt\n",
        "    !wget -P data/ https://raw.githubusercontent.com/taudata-indonesia/eLearning/master/data/stopwords_en.txt\n",
        "    !wget -P data/ https://raw.githubusercontent.com/taudata-indonesia/eLearning/master/data/kata_dasar.txt\n",
        "    !wget -P data/ https://raw.githubusercontent.com/taudata-indonesia/eLearning/master/data/wn-ind-def.tab\n",
        "    !wget -P data/ https://raw.githubusercontent.com/taudata-indonesia/eLearning/master/data/wn-msa-all.tab\n",
        "    !wget -P data/ https://raw.githubusercontent.com/taudata-indonesia/eLearning/master/data/ind_SA.csv\n",
        "    !wget -P data/ https://raw.githubusercontent.com/taudata-indonesia/eLearning/master/data/all_indo_man_tag_corpus_model.crf.tagger\n",
        "\n",
        "    !pip install --upgrade spacy python-crfsuite unidecode textblob sastrawi sklearn-pycrfsuite\n",
        "    !pip install --upgrade unidecode twython tweepy beautifulsoup4 tika\n",
        "    !python -m spacy download en\n",
        "    !python -m spacy download xx\n",
        "    !python -m spacy download en_core_web_sm\n",
        "    nltk.download('popular')\n",
        "except:\n",
        "    IN_COLAB = False\n",
        "    print(\"Running the code locally, please make sure all the python module versions agree with colab environment and all data/assets downloaded\")"
      ],
      "metadata": {
        "id": "bWkITiWTMkBc",
        "colab": {
          "base_uri": "https://localhost:8080/"
        },
        "outputId": "6e3a333d-cd02-497f-947c-f7aa7c3fccd5"
      },
      "execution_count": null,
      "outputs": [
        {
          "output_type": "stream",
          "name": "stdout",
          "text": [
            "--2022-06-10 14:46:58--  https://raw.githubusercontent.com/taudata-indonesia/eLearning/master/taudataDDGsna.py\n",
            "Resolving raw.githubusercontent.com (raw.githubusercontent.com)... 185.199.111.133, 185.199.110.133, 185.199.109.133, ...\n",
            "Connecting to raw.githubusercontent.com (raw.githubusercontent.com)|185.199.111.133|:443... connected.\n",
            "HTTP request sent, awaiting response... 200 OK\n",
            "Length: 8030 (7.8K) [text/plain]\n",
            "Saving to: ‘taudataDDGsna.py’\n",
            "\n",
            "taudataDDGsna.py    100%[===================>]   7.84K  --.-KB/s    in 0s      \n",
            "\n",
            "2022-06-10 14:46:58 (81.2 MB/s) - ‘taudataDDGsna.py’ saved [8030/8030]\n",
            "\n",
            "--2022-06-10 14:46:58--  https://raw.githubusercontent.com/taudata-indonesia/eLearning/master/data/contoh.pdf\n",
            "Resolving raw.githubusercontent.com (raw.githubusercontent.com)... 185.199.108.133, 185.199.109.133, 185.199.110.133, ...\n",
            "Connecting to raw.githubusercontent.com (raw.githubusercontent.com)|185.199.108.133|:443... connected.\n",
            "HTTP request sent, awaiting response... 200 OK\n",
            "Length: 221233 (216K) [application/octet-stream]\n",
            "Saving to: ‘data/contoh.pdf’\n",
            "\n",
            "contoh.pdf          100%[===================>] 216.05K  --.-KB/s    in 0.009s  \n",
            "\n",
            "2022-06-10 14:46:59 (23.6 MB/s) - ‘data/contoh.pdf’ saved [221233/221233]\n",
            "\n",
            "--2022-06-10 14:46:59--  https://raw.githubusercontent.com/taudata-indonesia/eLearning/master/data/slang.txt\n",
            "Resolving raw.githubusercontent.com (raw.githubusercontent.com)... 185.199.108.133, 185.199.109.133, 185.199.110.133, ...\n",
            "Connecting to raw.githubusercontent.com (raw.githubusercontent.com)|185.199.108.133|:443... connected.\n",
            "HTTP request sent, awaiting response... 200 OK\n",
            "Length: 29041 (28K) [text/plain]\n",
            "Saving to: ‘data/slang.txt’\n",
            "\n",
            "slang.txt           100%[===================>]  28.36K  --.-KB/s    in 0s      \n",
            "\n",
            "2022-06-10 14:46:59 (94.4 MB/s) - ‘data/slang.txt’ saved [29041/29041]\n",
            "\n",
            "--2022-06-10 14:46:59--  https://raw.githubusercontent.com/taudata-indonesia/eLearning/master/data/stopwords_id.txt\n",
            "Resolving raw.githubusercontent.com (raw.githubusercontent.com)... 185.199.108.133, 185.199.109.133, 185.199.110.133, ...\n",
            "Connecting to raw.githubusercontent.com (raw.githubusercontent.com)|185.199.108.133|:443... connected.\n",
            "HTTP request sent, awaiting response... 200 OK\n",
            "Length: 6446 (6.3K) [text/plain]\n",
            "Saving to: ‘data/stopwords_id.txt’\n",
            "\n",
            "stopwords_id.txt    100%[===================>]   6.29K  --.-KB/s    in 0s      \n",
            "\n",
            "2022-06-10 14:46:59 (68.2 MB/s) - ‘data/stopwords_id.txt’ saved [6446/6446]\n",
            "\n",
            "--2022-06-10 14:46:59--  https://raw.githubusercontent.com/taudata-indonesia/eLearning/master/data/stopwords_en.txt\n",
            "Resolving raw.githubusercontent.com (raw.githubusercontent.com)... 185.199.108.133, 185.199.109.133, 185.199.110.133, ...\n",
            "Connecting to raw.githubusercontent.com (raw.githubusercontent.com)|185.199.108.133|:443... connected.\n",
            "HTTP request sent, awaiting response... 200 OK\n",
            "Length: 15140 (15K) [text/plain]\n",
            "Saving to: ‘data/stopwords_en.txt’\n",
            "\n",
            "stopwords_en.txt    100%[===================>]  14.79K  --.-KB/s    in 0s      \n",
            "\n",
            "2022-06-10 14:46:59 (97.2 MB/s) - ‘data/stopwords_en.txt’ saved [15140/15140]\n",
            "\n",
            "--2022-06-10 14:46:59--  https://raw.githubusercontent.com/taudata-indonesia/eLearning/master/data/kata_dasar.txt\n",
            "Resolving raw.githubusercontent.com (raw.githubusercontent.com)... 185.199.110.133, 185.199.111.133, 185.199.108.133, ...\n",
            "Connecting to raw.githubusercontent.com (raw.githubusercontent.com)|185.199.110.133|:443... connected.\n",
            "HTTP request sent, awaiting response... 200 OK\n",
            "Length: 348507 (340K) [text/plain]\n",
            "Saving to: ‘data/kata_dasar.txt’\n",
            "\n",
            "kata_dasar.txt      100%[===================>] 340.34K  --.-KB/s    in 0.01s   \n",
            "\n",
            "2022-06-10 14:47:00 (26.9 MB/s) - ‘data/kata_dasar.txt’ saved [348507/348507]\n",
            "\n",
            "--2022-06-10 14:47:00--  https://raw.githubusercontent.com/taudata-indonesia/eLearning/master/data/wn-ind-def.tab\n",
            "Resolving raw.githubusercontent.com (raw.githubusercontent.com)... 185.199.108.133, 185.199.109.133, 185.199.110.133, ...\n",
            "Connecting to raw.githubusercontent.com (raw.githubusercontent.com)|185.199.108.133|:443... connected.\n",
            "HTTP request sent, awaiting response... 200 OK\n",
            "Length: 868322 (848K) [text/plain]\n",
            "Saving to: ‘data/wn-ind-def.tab’\n",
            "\n",
            "wn-ind-def.tab      100%[===================>] 847.97K  --.-KB/s    in 0.02s   \n",
            "\n",
            "2022-06-10 14:47:00 (48.5 MB/s) - ‘data/wn-ind-def.tab’ saved [868322/868322]\n",
            "\n",
            "--2022-06-10 14:47:00--  https://raw.githubusercontent.com/taudata-indonesia/eLearning/master/data/wn-msa-all.tab\n",
            "Resolving raw.githubusercontent.com (raw.githubusercontent.com)... 185.199.111.133, 185.199.109.133, 185.199.108.133, ...\n",
            "Connecting to raw.githubusercontent.com (raw.githubusercontent.com)|185.199.111.133|:443... connected.\n",
            "HTTP request sent, awaiting response... 200 OK\n",
            "Length: 17003012 (16M) [text/plain]\n",
            "Saving to: ‘data/wn-msa-all.tab’\n",
            "\n",
            "wn-msa-all.tab      100%[===================>]  16.21M  --.-KB/s    in 0.07s   \n",
            "\n",
            "2022-06-10 14:47:01 (223 MB/s) - ‘data/wn-msa-all.tab’ saved [17003012/17003012]\n",
            "\n",
            "--2022-06-10 14:47:01--  https://raw.githubusercontent.com/taudata-indonesia/eLearning/master/data/ind_SA.csv\n",
            "Resolving raw.githubusercontent.com (raw.githubusercontent.com)... 185.199.110.133, 185.199.109.133, 185.199.108.133, ...\n",
            "Connecting to raw.githubusercontent.com (raw.githubusercontent.com)|185.199.110.133|:443... connected.\n",
            "HTTP request sent, awaiting response... 200 OK\n",
            "Length: 918025 (897K) [text/plain]\n",
            "Saving to: ‘data/ind_SA.csv’\n",
            "\n",
            "ind_SA.csv          100%[===================>] 896.51K  --.-KB/s    in 0.02s   \n",
            "\n",
            "2022-06-10 14:47:02 (47.5 MB/s) - ‘data/ind_SA.csv’ saved [918025/918025]\n",
            "\n",
            "--2022-06-10 14:47:02--  https://raw.githubusercontent.com/taudata-indonesia/eLearning/master/data/all_indo_man_tag_corpus_model.crf.tagger\n",
            "Resolving raw.githubusercontent.com (raw.githubusercontent.com)... 185.199.108.133, 185.199.110.133, 185.199.109.133, ...\n",
            "Connecting to raw.githubusercontent.com (raw.githubusercontent.com)|185.199.108.133|:443... connected.\n",
            "HTTP request sent, awaiting response... 200 OK\n",
            "Length: 1722780 (1.6M) [application/octet-stream]\n",
            "Saving to: ‘data/all_indo_man_tag_corpus_model.crf.tagger’\n",
            "\n",
            "all_indo_man_tag_co 100%[===================>]   1.64M  --.-KB/s    in 0.02s   \n",
            "\n",
            "2022-06-10 14:47:02 (72.7 MB/s) - ‘data/all_indo_man_tag_corpus_model.crf.tagger’ saved [1722780/1722780]\n",
            "\n",
            "Looking in indexes: https://pypi.org/simple, https://us-python.pkg.dev/colab-wheels/public/simple/\n",
            "Requirement already satisfied: spacy in /usr/local/lib/python3.7/dist-packages (2.2.4)\n",
            "Collecting spacy\n",
            "  Downloading spacy-3.3.1-cp37-cp37m-manylinux_2_17_x86_64.manylinux2014_x86_64.whl (6.2 MB)\n",
            "\u001b[K     |████████████████████████████████| 6.2 MB 15.7 MB/s \n",
            "\u001b[?25hCollecting python-crfsuite\n",
            "  Downloading python_crfsuite-0.9.8-cp37-cp37m-manylinux_2_17_x86_64.manylinux2014_x86_64.whl (965 kB)\n",
            "\u001b[K     |████████████████████████████████| 965 kB 40.5 MB/s \n",
            "\u001b[?25hCollecting unidecode\n",
            "  Downloading Unidecode-1.3.4-py3-none-any.whl (235 kB)\n",
            "\u001b[K     |████████████████████████████████| 235 kB 46.0 MB/s \n",
            "\u001b[?25hRequirement already satisfied: textblob in /usr/local/lib/python3.7/dist-packages (0.15.3)\n",
            "Collecting textblob\n",
            "  Downloading textblob-0.17.1-py2.py3-none-any.whl (636 kB)\n",
            "\u001b[K     |████████████████████████████████| 636 kB 56.0 MB/s \n",
            "\u001b[?25hCollecting sastrawi\n",
            "  Downloading Sastrawi-1.0.1-py2.py3-none-any.whl (209 kB)\n",
            "\u001b[K     |████████████████████████████████| 209 kB 46.4 MB/s \n",
            "\u001b[?25hCollecting sklearn-pycrfsuite\n",
            "  Downloading sklearn-pycrfsuite-0.4.0.tar.gz (24 kB)\n",
            "Requirement already satisfied: packaging>=20.0 in /usr/local/lib/python3.7/dist-packages (from spacy) (21.3)\n",
            "Collecting langcodes<4.0.0,>=3.2.0\n",
            "  Downloading langcodes-3.3.0-py3-none-any.whl (181 kB)\n",
            "\u001b[K     |████████████████████████████████| 181 kB 43.6 MB/s \n",
            "\u001b[?25hRequirement already satisfied: tqdm<5.0.0,>=4.38.0 in /usr/local/lib/python3.7/dist-packages (from spacy) (4.64.0)\n",
            "Requirement already satisfied: preshed<3.1.0,>=3.0.2 in /usr/local/lib/python3.7/dist-packages (from spacy) (3.0.6)\n",
            "Collecting srsly<3.0.0,>=2.4.3\n",
            "  Downloading srsly-2.4.3-cp37-cp37m-manylinux_2_17_x86_64.manylinux2014_x86_64.whl (457 kB)\n",
            "\u001b[K     |████████████████████████████████| 457 kB 42.5 MB/s \n",
            "\u001b[?25hCollecting typer<0.5.0,>=0.3.0\n",
            "  Downloading typer-0.4.1-py3-none-any.whl (27 kB)\n",
            "Requirement already satisfied: jinja2 in /usr/local/lib/python3.7/dist-packages (from spacy) (2.11.3)\n",
            "Requirement already satisfied: requests<3.0.0,>=2.13.0 in /usr/local/lib/python3.7/dist-packages (from spacy) (2.23.0)\n",
            "Requirement already satisfied: setuptools in /usr/local/lib/python3.7/dist-packages (from spacy) (57.4.0)\n",
            "Collecting pydantic!=1.8,!=1.8.1,<1.9.0,>=1.7.4\n",
            "  Downloading pydantic-1.8.2-cp37-cp37m-manylinux2014_x86_64.whl (10.1 MB)\n",
            "\u001b[K     |████████████████████████████████| 10.1 MB 46.6 MB/s \n",
            "\u001b[?25hRequirement already satisfied: cymem<2.1.0,>=2.0.2 in /usr/local/lib/python3.7/dist-packages (from spacy) (2.0.6)\n",
            "Requirement already satisfied: blis<0.8.0,>=0.4.0 in /usr/local/lib/python3.7/dist-packages (from spacy) (0.4.1)\n",
            "Collecting typing-extensions<4.2.0,>=3.7.4\n",
            "  Downloading typing_extensions-4.1.1-py3-none-any.whl (26 kB)\n",
            "Collecting spacy-legacy<3.1.0,>=3.0.9\n",
            "  Downloading spacy_legacy-3.0.9-py2.py3-none-any.whl (20 kB)\n",
            "Collecting pathy>=0.3.5\n",
            "  Downloading pathy-0.6.1-py3-none-any.whl (42 kB)\n",
            "\u001b[K     |████████████████████████████████| 42 kB 1.4 MB/s \n",
            "\u001b[?25hCollecting catalogue<2.1.0,>=2.0.6\n",
            "  Downloading catalogue-2.0.7-py3-none-any.whl (17 kB)\n",
            "Collecting thinc<8.1.0,>=8.0.14\n",
            "  Downloading thinc-8.0.17-cp37-cp37m-manylinux_2_17_x86_64.manylinux2014_x86_64.whl (660 kB)\n",
            "\u001b[K     |████████████████████████████████| 660 kB 68.7 MB/s \n",
            "\u001b[?25hCollecting spacy-loggers<2.0.0,>=1.0.0\n",
            "  Downloading spacy_loggers-1.0.2-py3-none-any.whl (7.2 kB)\n",
            "Requirement already satisfied: numpy>=1.15.0 in /usr/local/lib/python3.7/dist-packages (from spacy) (1.21.6)\n",
            "Requirement already satisfied: wasabi<1.1.0,>=0.9.1 in /usr/local/lib/python3.7/dist-packages (from spacy) (0.9.1)\n",
            "Requirement already satisfied: murmurhash<1.1.0,>=0.28.0 in /usr/local/lib/python3.7/dist-packages (from spacy) (1.0.7)\n",
            "Requirement already satisfied: zipp>=0.5 in /usr/local/lib/python3.7/dist-packages (from catalogue<2.1.0,>=2.0.6->spacy) (3.8.0)\n",
            "Requirement already satisfied: pyparsing!=3.0.5,>=2.0.2 in /usr/local/lib/python3.7/dist-packages (from packaging>=20.0->spacy) (3.0.9)\n",
            "Collecting smart-open<6.0.0,>=5.0.0\n",
            "  Downloading smart_open-5.2.1-py3-none-any.whl (58 kB)\n",
            "\u001b[K     |████████████████████████████████| 58 kB 6.3 MB/s \n",
            "\u001b[?25hRequirement already satisfied: urllib3!=1.25.0,!=1.25.1,<1.26,>=1.21.1 in /usr/local/lib/python3.7/dist-packages (from requests<3.0.0,>=2.13.0->spacy) (1.24.3)\n",
            "Requirement already satisfied: idna<3,>=2.5 in /usr/local/lib/python3.7/dist-packages (from requests<3.0.0,>=2.13.0->spacy) (2.10)\n",
            "Requirement already satisfied: chardet<4,>=3.0.2 in /usr/local/lib/python3.7/dist-packages (from requests<3.0.0,>=2.13.0->spacy) (3.0.4)\n",
            "Requirement already satisfied: certifi>=2017.4.17 in /usr/local/lib/python3.7/dist-packages (from requests<3.0.0,>=2.13.0->spacy) (2022.5.18.1)\n",
            "Requirement already satisfied: click<9.0.0,>=7.1.1 in /usr/local/lib/python3.7/dist-packages (from typer<0.5.0,>=0.3.0->spacy) (7.1.2)\n",
            "Requirement already satisfied: nltk>=3.1 in /usr/local/lib/python3.7/dist-packages (from textblob) (3.2.5)\n",
            "Requirement already satisfied: six in /usr/local/lib/python3.7/dist-packages (from nltk>=3.1->textblob) (1.15.0)\n",
            "Requirement already satisfied: tabulate in /usr/local/lib/python3.7/dist-packages (from sklearn-pycrfsuite) (0.8.9)\n",
            "Collecting python-crfsuite-extension\n",
            "  Downloading python-crfsuite-extension-0.9.7.tar.gz (485 kB)\n",
            "\u001b[K     |████████████████████████████████| 485 kB 52.4 MB/s \n",
            "\u001b[?25hRequirement already satisfied: MarkupSafe>=0.23 in /usr/local/lib/python3.7/dist-packages (from jinja2->spacy) (2.0.1)\n",
            "Building wheels for collected packages: sklearn-pycrfsuite, python-crfsuite-extension\n",
            "  Building wheel for sklearn-pycrfsuite (setup.py) ... \u001b[?25l\u001b[?25hdone\n",
            "  Created wheel for sklearn-pycrfsuite: filename=sklearn_pycrfsuite-0.4.0-py2.py3-none-any.whl size=11002 sha256=727ced72df708e0d9af5f06b320bd3b484111520e49a4017c5c55bb2d472264a\n",
            "  Stored in directory: /root/.cache/pip/wheels/44/50/b1/295e502c6652f551dc99bfdb394a3fe2fcb47668e333391f38\n",
            "  Building wheel for python-crfsuite-extension (setup.py) ... \u001b[?25l\u001b[?25hdone\n",
            "  Created wheel for python-crfsuite-extension: filename=python_crfsuite_extension-0.9.7-cp37-cp37m-linux_x86_64.whl size=776957 sha256=10cb5a3a948e60eaa2ce43cf5efaf1526ea84fc371a679fcc54433882d26dc51\n",
            "  Stored in directory: /root/.cache/pip/wheels/70/d7/bf/369f4d179407dbf3840132e4135fa61f0bf711f4496d0bf750\n",
            "Successfully built sklearn-pycrfsuite python-crfsuite-extension\n",
            "Installing collected packages: typing-extensions, catalogue, typer, srsly, smart-open, pydantic, thinc, spacy-loggers, spacy-legacy, python-crfsuite-extension, pathy, langcodes, unidecode, textblob, spacy, sklearn-pycrfsuite, sastrawi, python-crfsuite\n",
            "  Attempting uninstall: typing-extensions\n",
            "    Found existing installation: typing-extensions 4.2.0\n",
            "    Uninstalling typing-extensions-4.2.0:\n",
            "      Successfully uninstalled typing-extensions-4.2.0\n",
            "  Attempting uninstall: catalogue\n",
            "    Found existing installation: catalogue 1.0.0\n",
            "    Uninstalling catalogue-1.0.0:\n",
            "      Successfully uninstalled catalogue-1.0.0\n",
            "  Attempting uninstall: srsly\n",
            "    Found existing installation: srsly 1.0.5\n",
            "    Uninstalling srsly-1.0.5:\n",
            "      Successfully uninstalled srsly-1.0.5\n",
            "  Attempting uninstall: smart-open\n",
            "    Found existing installation: smart-open 6.0.0\n",
            "    Uninstalling smart-open-6.0.0:\n",
            "      Successfully uninstalled smart-open-6.0.0\n",
            "  Attempting uninstall: thinc\n",
            "    Found existing installation: thinc 7.4.0\n",
            "    Uninstalling thinc-7.4.0:\n",
            "      Successfully uninstalled thinc-7.4.0\n",
            "  Attempting uninstall: textblob\n",
            "    Found existing installation: textblob 0.15.3\n",
            "    Uninstalling textblob-0.15.3:\n",
            "      Successfully uninstalled textblob-0.15.3\n",
            "  Attempting uninstall: spacy\n",
            "    Found existing installation: spacy 2.2.4\n",
            "    Uninstalling spacy-2.2.4:\n",
            "      Successfully uninstalled spacy-2.2.4\n",
            "Successfully installed catalogue-2.0.7 langcodes-3.3.0 pathy-0.6.1 pydantic-1.8.2 python-crfsuite-0.9.8 python-crfsuite-extension-0.9.7 sastrawi-1.0.1 sklearn-pycrfsuite-0.4.0 smart-open-5.2.1 spacy-3.3.1 spacy-legacy-3.0.9 spacy-loggers-1.0.2 srsly-2.4.3 textblob-0.17.1 thinc-8.0.17 typer-0.4.1 typing-extensions-4.1.1 unidecode-1.3.4\n",
            "Looking in indexes: https://pypi.org/simple, https://us-python.pkg.dev/colab-wheels/public/simple/\n",
            "Requirement already satisfied: unidecode in /usr/local/lib/python3.7/dist-packages (1.3.4)\n",
            "Collecting twython\n",
            "  Downloading twython-3.9.1-py3-none-any.whl (33 kB)\n",
            "Requirement already satisfied: tweepy in /usr/local/lib/python3.7/dist-packages (3.10.0)\n",
            "Collecting tweepy\n",
            "  Downloading tweepy-4.10.0-py3-none-any.whl (94 kB)\n",
            "\u001b[K     |████████████████████████████████| 94 kB 2.6 MB/s \n",
            "\u001b[?25hRequirement already satisfied: beautifulsoup4 in /usr/local/lib/python3.7/dist-packages (4.6.3)\n",
            "Collecting beautifulsoup4\n",
            "  Downloading beautifulsoup4-4.11.1-py3-none-any.whl (128 kB)\n",
            "\u001b[K     |████████████████████████████████| 128 kB 49.6 MB/s \n",
            "\u001b[?25hCollecting tika\n",
            "  Downloading tika-1.24.tar.gz (28 kB)\n",
            "Requirement already satisfied: requests>=2.1.0 in /usr/local/lib/python3.7/dist-packages (from twython) (2.23.0)\n",
            "Requirement already satisfied: requests-oauthlib>=0.4.0 in /usr/local/lib/python3.7/dist-packages (from twython) (1.3.1)\n",
            "Requirement already satisfied: idna<3,>=2.5 in /usr/local/lib/python3.7/dist-packages (from requests>=2.1.0->twython) (2.10)\n",
            "Requirement already satisfied: chardet<4,>=3.0.2 in /usr/local/lib/python3.7/dist-packages (from requests>=2.1.0->twython) (3.0.4)\n",
            "Requirement already satisfied: urllib3!=1.25.0,!=1.25.1,<1.26,>=1.21.1 in /usr/local/lib/python3.7/dist-packages (from requests>=2.1.0->twython) (1.24.3)\n",
            "Requirement already satisfied: certifi>=2017.4.17 in /usr/local/lib/python3.7/dist-packages (from requests>=2.1.0->twython) (2022.5.18.1)\n",
            "Requirement already satisfied: oauthlib>=3.0.0 in /usr/local/lib/python3.7/dist-packages (from requests-oauthlib>=0.4.0->twython) (3.2.0)\n",
            "Collecting requests>=2.1.0\n",
            "  Downloading requests-2.28.0-py3-none-any.whl (62 kB)\n",
            "\u001b[K     |████████████████████████████████| 62 kB 996 kB/s \n",
            "\u001b[?25hRequirement already satisfied: charset-normalizer~=2.0.0 in /usr/local/lib/python3.7/dist-packages (from requests>=2.1.0->twython) (2.0.12)\n",
            "Requirement already satisfied: soupsieve>1.2 in /usr/local/lib/python3.7/dist-packages (from beautifulsoup4) (2.3.2.post1)\n",
            "Requirement already satisfied: setuptools in /usr/local/lib/python3.7/dist-packages (from tika) (57.4.0)\n",
            "Building wheels for collected packages: tika\n",
            "  Building wheel for tika (setup.py) ... \u001b[?25l\u001b[?25hdone\n",
            "  Created wheel for tika: filename=tika-1.24-py3-none-any.whl size=32893 sha256=a00f03debba5de072fc09024b93c1a8a22cb68f24c63c35523c28004b9326af2\n",
            "  Stored in directory: /root/.cache/pip/wheels/ec/2b/38/58ff05467a742e32f67f5d0de048fa046e764e2fbb25ac93f3\n",
            "Successfully built tika\n",
            "Installing collected packages: requests, twython, tweepy, tika, beautifulsoup4\n",
            "  Attempting uninstall: requests\n",
            "    Found existing installation: requests 2.23.0\n",
            "    Uninstalling requests-2.23.0:\n",
            "      Successfully uninstalled requests-2.23.0\n",
            "  Attempting uninstall: tweepy\n",
            "    Found existing installation: tweepy 3.10.0\n",
            "    Uninstalling tweepy-3.10.0:\n",
            "      Successfully uninstalled tweepy-3.10.0\n",
            "  Attempting uninstall: beautifulsoup4\n",
            "    Found existing installation: beautifulsoup4 4.6.3\n",
            "    Uninstalling beautifulsoup4-4.6.3:\n",
            "      Successfully uninstalled beautifulsoup4-4.6.3\n",
            "\u001b[31mERROR: pip's dependency resolver does not currently take into account all the packages that are installed. This behaviour is the source of the following dependency conflicts.\n",
            "google-colab 1.0.0 requires requests~=2.23.0, but you have requests 2.28.0 which is incompatible.\n",
            "datascience 0.10.6 requires folium==0.2.1, but you have folium 0.8.3 which is incompatible.\u001b[0m\n",
            "Successfully installed beautifulsoup4-4.11.1 requests-2.28.0 tika-1.24 tweepy-4.10.0 twython-3.9.1\n",
            "\u001b[38;5;3m⚠ As of spaCy v3.0, shortcuts like 'en' are deprecated. Please use the\n",
            "full pipeline package name 'en_core_web_sm' instead.\u001b[0m\n",
            "Looking in indexes: https://pypi.org/simple, https://us-python.pkg.dev/colab-wheels/public/simple/\n",
            "Collecting en-core-web-sm==3.3.0\n",
            "  Downloading https://github.com/explosion/spacy-models/releases/download/en_core_web_sm-3.3.0/en_core_web_sm-3.3.0-py3-none-any.whl (12.8 MB)\n",
            "\u001b[K     |████████████████████████████████| 12.8 MB 1.2 MB/s \n",
            "\u001b[?25hRequirement already satisfied: spacy<3.4.0,>=3.3.0.dev0 in /usr/local/lib/python3.7/dist-packages (from en-core-web-sm==3.3.0) (3.3.1)\n",
            "Requirement already satisfied: typing-extensions<4.2.0,>=3.7.4 in /usr/local/lib/python3.7/dist-packages (from spacy<3.4.0,>=3.3.0.dev0->en-core-web-sm==3.3.0) (4.1.1)\n",
            "Requirement already satisfied: setuptools in /usr/local/lib/python3.7/dist-packages (from spacy<3.4.0,>=3.3.0.dev0->en-core-web-sm==3.3.0) (57.4.0)\n",
            "Requirement already satisfied: preshed<3.1.0,>=3.0.2 in /usr/local/lib/python3.7/dist-packages (from spacy<3.4.0,>=3.3.0.dev0->en-core-web-sm==3.3.0) (3.0.6)\n",
            "Requirement already satisfied: thinc<8.1.0,>=8.0.14 in /usr/local/lib/python3.7/dist-packages (from spacy<3.4.0,>=3.3.0.dev0->en-core-web-sm==3.3.0) (8.0.17)\n",
            "Requirement already satisfied: tqdm<5.0.0,>=4.38.0 in /usr/local/lib/python3.7/dist-packages (from spacy<3.4.0,>=3.3.0.dev0->en-core-web-sm==3.3.0) (4.64.0)\n",
            "Requirement already satisfied: blis<0.8.0,>=0.4.0 in /usr/local/lib/python3.7/dist-packages (from spacy<3.4.0,>=3.3.0.dev0->en-core-web-sm==3.3.0) (0.4.1)\n",
            "Requirement already satisfied: numpy>=1.15.0 in /usr/local/lib/python3.7/dist-packages (from spacy<3.4.0,>=3.3.0.dev0->en-core-web-sm==3.3.0) (1.21.6)\n",
            "Requirement already satisfied: langcodes<4.0.0,>=3.2.0 in /usr/local/lib/python3.7/dist-packages (from spacy<3.4.0,>=3.3.0.dev0->en-core-web-sm==3.3.0) (3.3.0)\n",
            "Requirement already satisfied: wasabi<1.1.0,>=0.9.1 in /usr/local/lib/python3.7/dist-packages (from spacy<3.4.0,>=3.3.0.dev0->en-core-web-sm==3.3.0) (0.9.1)\n",
            "Requirement already satisfied: jinja2 in /usr/local/lib/python3.7/dist-packages (from spacy<3.4.0,>=3.3.0.dev0->en-core-web-sm==3.3.0) (2.11.3)\n",
            "Requirement already satisfied: catalogue<2.1.0,>=2.0.6 in /usr/local/lib/python3.7/dist-packages (from spacy<3.4.0,>=3.3.0.dev0->en-core-web-sm==3.3.0) (2.0.7)\n",
            "Requirement already satisfied: cymem<2.1.0,>=2.0.2 in /usr/local/lib/python3.7/dist-packages (from spacy<3.4.0,>=3.3.0.dev0->en-core-web-sm==3.3.0) (2.0.6)\n",
            "Requirement already satisfied: spacy-legacy<3.1.0,>=3.0.9 in /usr/local/lib/python3.7/dist-packages (from spacy<3.4.0,>=3.3.0.dev0->en-core-web-sm==3.3.0) (3.0.9)\n",
            "Requirement already satisfied: srsly<3.0.0,>=2.4.3 in /usr/local/lib/python3.7/dist-packages (from spacy<3.4.0,>=3.3.0.dev0->en-core-web-sm==3.3.0) (2.4.3)\n",
            "Requirement already satisfied: packaging>=20.0 in /usr/local/lib/python3.7/dist-packages (from spacy<3.4.0,>=3.3.0.dev0->en-core-web-sm==3.3.0) (21.3)\n",
            "Requirement already satisfied: murmurhash<1.1.0,>=0.28.0 in /usr/local/lib/python3.7/dist-packages (from spacy<3.4.0,>=3.3.0.dev0->en-core-web-sm==3.3.0) (1.0.7)\n",
            "Requirement already satisfied: pathy>=0.3.5 in /usr/local/lib/python3.7/dist-packages (from spacy<3.4.0,>=3.3.0.dev0->en-core-web-sm==3.3.0) (0.6.1)\n",
            "Requirement already satisfied: spacy-loggers<2.0.0,>=1.0.0 in /usr/local/lib/python3.7/dist-packages (from spacy<3.4.0,>=3.3.0.dev0->en-core-web-sm==3.3.0) (1.0.2)\n",
            "Requirement already satisfied: pydantic!=1.8,!=1.8.1,<1.9.0,>=1.7.4 in /usr/local/lib/python3.7/dist-packages (from spacy<3.4.0,>=3.3.0.dev0->en-core-web-sm==3.3.0) (1.8.2)\n",
            "Requirement already satisfied: typer<0.5.0,>=0.3.0 in /usr/local/lib/python3.7/dist-packages (from spacy<3.4.0,>=3.3.0.dev0->en-core-web-sm==3.3.0) (0.4.1)\n",
            "Requirement already satisfied: requests<3.0.0,>=2.13.0 in /usr/local/lib/python3.7/dist-packages (from spacy<3.4.0,>=3.3.0.dev0->en-core-web-sm==3.3.0) (2.28.0)\n",
            "Requirement already satisfied: zipp>=0.5 in /usr/local/lib/python3.7/dist-packages (from catalogue<2.1.0,>=2.0.6->spacy<3.4.0,>=3.3.0.dev0->en-core-web-sm==3.3.0) (3.8.0)\n",
            "Requirement already satisfied: pyparsing!=3.0.5,>=2.0.2 in /usr/local/lib/python3.7/dist-packages (from packaging>=20.0->spacy<3.4.0,>=3.3.0.dev0->en-core-web-sm==3.3.0) (3.0.9)\n",
            "Requirement already satisfied: smart-open<6.0.0,>=5.0.0 in /usr/local/lib/python3.7/dist-packages (from pathy>=0.3.5->spacy<3.4.0,>=3.3.0.dev0->en-core-web-sm==3.3.0) (5.2.1)\n",
            "Requirement already satisfied: certifi>=2017.4.17 in /usr/local/lib/python3.7/dist-packages (from requests<3.0.0,>=2.13.0->spacy<3.4.0,>=3.3.0.dev0->en-core-web-sm==3.3.0) (2022.5.18.1)\n",
            "Requirement already satisfied: idna<4,>=2.5 in /usr/local/lib/python3.7/dist-packages (from requests<3.0.0,>=2.13.0->spacy<3.4.0,>=3.3.0.dev0->en-core-web-sm==3.3.0) (2.10)\n",
            "Requirement already satisfied: charset-normalizer~=2.0.0 in /usr/local/lib/python3.7/dist-packages (from requests<3.0.0,>=2.13.0->spacy<3.4.0,>=3.3.0.dev0->en-core-web-sm==3.3.0) (2.0.12)\n",
            "Requirement already satisfied: urllib3<1.27,>=1.21.1 in /usr/local/lib/python3.7/dist-packages (from requests<3.0.0,>=2.13.0->spacy<3.4.0,>=3.3.0.dev0->en-core-web-sm==3.3.0) (1.24.3)\n",
            "Requirement already satisfied: click<9.0.0,>=7.1.1 in /usr/local/lib/python3.7/dist-packages (from typer<0.5.0,>=0.3.0->spacy<3.4.0,>=3.3.0.dev0->en-core-web-sm==3.3.0) (7.1.2)\n",
            "Requirement already satisfied: MarkupSafe>=0.23 in /usr/local/lib/python3.7/dist-packages (from jinja2->spacy<3.4.0,>=3.3.0.dev0->en-core-web-sm==3.3.0) (2.0.1)\n",
            "Installing collected packages: en-core-web-sm\n",
            "  Attempting uninstall: en-core-web-sm\n",
            "    Found existing installation: en-core-web-sm 2.2.5\n",
            "    Uninstalling en-core-web-sm-2.2.5:\n",
            "      Successfully uninstalled en-core-web-sm-2.2.5\n",
            "Successfully installed en-core-web-sm-3.3.0\n",
            "\u001b[38;5;2m✔ Download and installation successful\u001b[0m\n",
            "You can now load the package via spacy.load('en_core_web_sm')\n",
            "\u001b[38;5;3m⚠ As of spaCy v3.0, shortcuts like 'xx' are deprecated. Please use the\n",
            "full pipeline package name 'xx_ent_wiki_sm' instead.\u001b[0m\n",
            "Looking in indexes: https://pypi.org/simple, https://us-python.pkg.dev/colab-wheels/public/simple/\n",
            "Collecting xx-ent-wiki-sm==3.3.0\n",
            "  Downloading https://github.com/explosion/spacy-models/releases/download/xx_ent_wiki_sm-3.3.0/xx_ent_wiki_sm-3.3.0-py3-none-any.whl (11.2 MB)\n",
            "\u001b[K     |████████████████████████████████| 11.2 MB 13.0 MB/s \n",
            "\u001b[?25hRequirement already satisfied: spacy<3.4.0,>=3.3.0.dev0 in /usr/local/lib/python3.7/dist-packages (from xx-ent-wiki-sm==3.3.0) (3.3.1)\n",
            "Requirement already satisfied: setuptools in /usr/local/lib/python3.7/dist-packages (from spacy<3.4.0,>=3.3.0.dev0->xx-ent-wiki-sm==3.3.0) (57.4.0)\n",
            "Requirement already satisfied: wasabi<1.1.0,>=0.9.1 in /usr/local/lib/python3.7/dist-packages (from spacy<3.4.0,>=3.3.0.dev0->xx-ent-wiki-sm==3.3.0) (0.9.1)\n",
            "Requirement already satisfied: numpy>=1.15.0 in /usr/local/lib/python3.7/dist-packages (from spacy<3.4.0,>=3.3.0.dev0->xx-ent-wiki-sm==3.3.0) (1.21.6)\n",
            "Requirement already satisfied: blis<0.8.0,>=0.4.0 in /usr/local/lib/python3.7/dist-packages (from spacy<3.4.0,>=3.3.0.dev0->xx-ent-wiki-sm==3.3.0) (0.4.1)\n",
            "Requirement already satisfied: tqdm<5.0.0,>=4.38.0 in /usr/local/lib/python3.7/dist-packages (from spacy<3.4.0,>=3.3.0.dev0->xx-ent-wiki-sm==3.3.0) (4.64.0)\n",
            "Requirement already satisfied: spacy-legacy<3.1.0,>=3.0.9 in /usr/local/lib/python3.7/dist-packages (from spacy<3.4.0,>=3.3.0.dev0->xx-ent-wiki-sm==3.3.0) (3.0.9)\n",
            "Requirement already satisfied: srsly<3.0.0,>=2.4.3 in /usr/local/lib/python3.7/dist-packages (from spacy<3.4.0,>=3.3.0.dev0->xx-ent-wiki-sm==3.3.0) (2.4.3)\n",
            "Requirement already satisfied: packaging>=20.0 in /usr/local/lib/python3.7/dist-packages (from spacy<3.4.0,>=3.3.0.dev0->xx-ent-wiki-sm==3.3.0) (21.3)\n",
            "Requirement already satisfied: preshed<3.1.0,>=3.0.2 in /usr/local/lib/python3.7/dist-packages (from spacy<3.4.0,>=3.3.0.dev0->xx-ent-wiki-sm==3.3.0) (3.0.6)\n",
            "Requirement already satisfied: cymem<2.1.0,>=2.0.2 in /usr/local/lib/python3.7/dist-packages (from spacy<3.4.0,>=3.3.0.dev0->xx-ent-wiki-sm==3.3.0) (2.0.6)\n",
            "Requirement already satisfied: pathy>=0.3.5 in /usr/local/lib/python3.7/dist-packages (from spacy<3.4.0,>=3.3.0.dev0->xx-ent-wiki-sm==3.3.0) (0.6.1)\n",
            "Requirement already satisfied: murmurhash<1.1.0,>=0.28.0 in /usr/local/lib/python3.7/dist-packages (from spacy<3.4.0,>=3.3.0.dev0->xx-ent-wiki-sm==3.3.0) (1.0.7)\n",
            "Requirement already satisfied: jinja2 in /usr/local/lib/python3.7/dist-packages (from spacy<3.4.0,>=3.3.0.dev0->xx-ent-wiki-sm==3.3.0) (2.11.3)\n",
            "Requirement already satisfied: typer<0.5.0,>=0.3.0 in /usr/local/lib/python3.7/dist-packages (from spacy<3.4.0,>=3.3.0.dev0->xx-ent-wiki-sm==3.3.0) (0.4.1)\n",
            "Requirement already satisfied: catalogue<2.1.0,>=2.0.6 in /usr/local/lib/python3.7/dist-packages (from spacy<3.4.0,>=3.3.0.dev0->xx-ent-wiki-sm==3.3.0) (2.0.7)\n",
            "Requirement already satisfied: thinc<8.1.0,>=8.0.14 in /usr/local/lib/python3.7/dist-packages (from spacy<3.4.0,>=3.3.0.dev0->xx-ent-wiki-sm==3.3.0) (8.0.17)\n",
            "Requirement already satisfied: spacy-loggers<2.0.0,>=1.0.0 in /usr/local/lib/python3.7/dist-packages (from spacy<3.4.0,>=3.3.0.dev0->xx-ent-wiki-sm==3.3.0) (1.0.2)\n",
            "Requirement already satisfied: requests<3.0.0,>=2.13.0 in /usr/local/lib/python3.7/dist-packages (from spacy<3.4.0,>=3.3.0.dev0->xx-ent-wiki-sm==3.3.0) (2.28.0)\n",
            "Requirement already satisfied: typing-extensions<4.2.0,>=3.7.4 in /usr/local/lib/python3.7/dist-packages (from spacy<3.4.0,>=3.3.0.dev0->xx-ent-wiki-sm==3.3.0) (4.1.1)\n",
            "Requirement already satisfied: pydantic!=1.8,!=1.8.1,<1.9.0,>=1.7.4 in /usr/local/lib/python3.7/dist-packages (from spacy<3.4.0,>=3.3.0.dev0->xx-ent-wiki-sm==3.3.0) (1.8.2)\n",
            "Requirement already satisfied: langcodes<4.0.0,>=3.2.0 in /usr/local/lib/python3.7/dist-packages (from spacy<3.4.0,>=3.3.0.dev0->xx-ent-wiki-sm==3.3.0) (3.3.0)\n",
            "Requirement already satisfied: zipp>=0.5 in /usr/local/lib/python3.7/dist-packages (from catalogue<2.1.0,>=2.0.6->spacy<3.4.0,>=3.3.0.dev0->xx-ent-wiki-sm==3.3.0) (3.8.0)\n",
            "Requirement already satisfied: pyparsing!=3.0.5,>=2.0.2 in /usr/local/lib/python3.7/dist-packages (from packaging>=20.0->spacy<3.4.0,>=3.3.0.dev0->xx-ent-wiki-sm==3.3.0) (3.0.9)\n",
            "Requirement already satisfied: smart-open<6.0.0,>=5.0.0 in /usr/local/lib/python3.7/dist-packages (from pathy>=0.3.5->spacy<3.4.0,>=3.3.0.dev0->xx-ent-wiki-sm==3.3.0) (5.2.1)\n",
            "Requirement already satisfied: certifi>=2017.4.17 in /usr/local/lib/python3.7/dist-packages (from requests<3.0.0,>=2.13.0->spacy<3.4.0,>=3.3.0.dev0->xx-ent-wiki-sm==3.3.0) (2022.5.18.1)\n",
            "Requirement already satisfied: charset-normalizer~=2.0.0 in /usr/local/lib/python3.7/dist-packages (from requests<3.0.0,>=2.13.0->spacy<3.4.0,>=3.3.0.dev0->xx-ent-wiki-sm==3.3.0) (2.0.12)\n",
            "Requirement already satisfied: idna<4,>=2.5 in /usr/local/lib/python3.7/dist-packages (from requests<3.0.0,>=2.13.0->spacy<3.4.0,>=3.3.0.dev0->xx-ent-wiki-sm==3.3.0) (2.10)\n",
            "Requirement already satisfied: urllib3<1.27,>=1.21.1 in /usr/local/lib/python3.7/dist-packages (from requests<3.0.0,>=2.13.0->spacy<3.4.0,>=3.3.0.dev0->xx-ent-wiki-sm==3.3.0) (1.24.3)\n",
            "Requirement already satisfied: click<9.0.0,>=7.1.1 in /usr/local/lib/python3.7/dist-packages (from typer<0.5.0,>=0.3.0->spacy<3.4.0,>=3.3.0.dev0->xx-ent-wiki-sm==3.3.0) (7.1.2)\n",
            "Requirement already satisfied: MarkupSafe>=0.23 in /usr/local/lib/python3.7/dist-packages (from jinja2->spacy<3.4.0,>=3.3.0.dev0->xx-ent-wiki-sm==3.3.0) (2.0.1)\n",
            "Installing collected packages: xx-ent-wiki-sm\n",
            "Successfully installed xx-ent-wiki-sm-3.3.0\n",
            "\u001b[38;5;2m✔ Download and installation successful\u001b[0m\n",
            "You can now load the package via spacy.load('xx_ent_wiki_sm')\n",
            "Looking in indexes: https://pypi.org/simple, https://us-python.pkg.dev/colab-wheels/public/simple/\n",
            "Collecting en-core-web-sm==3.3.0\n",
            "  Downloading https://github.com/explosion/spacy-models/releases/download/en_core_web_sm-3.3.0/en_core_web_sm-3.3.0-py3-none-any.whl (12.8 MB)\n",
            "\u001b[K     |████████████████████████████████| 12.8 MB 14.7 MB/s \n",
            "\u001b[?25hRequirement already satisfied: spacy<3.4.0,>=3.3.0.dev0 in /usr/local/lib/python3.7/dist-packages (from en-core-web-sm==3.3.0) (3.3.1)\n",
            "Requirement already satisfied: typer<0.5.0,>=0.3.0 in /usr/local/lib/python3.7/dist-packages (from spacy<3.4.0,>=3.3.0.dev0->en-core-web-sm==3.3.0) (0.4.1)\n",
            "Requirement already satisfied: murmurhash<1.1.0,>=0.28.0 in /usr/local/lib/python3.7/dist-packages (from spacy<3.4.0,>=3.3.0.dev0->en-core-web-sm==3.3.0) (1.0.7)\n",
            "Requirement already satisfied: jinja2 in /usr/local/lib/python3.7/dist-packages (from spacy<3.4.0,>=3.3.0.dev0->en-core-web-sm==3.3.0) (2.11.3)\n",
            "Requirement already satisfied: pydantic!=1.8,!=1.8.1,<1.9.0,>=1.7.4 in /usr/local/lib/python3.7/dist-packages (from spacy<3.4.0,>=3.3.0.dev0->en-core-web-sm==3.3.0) (1.8.2)\n",
            "Requirement already satisfied: pathy>=0.3.5 in /usr/local/lib/python3.7/dist-packages (from spacy<3.4.0,>=3.3.0.dev0->en-core-web-sm==3.3.0) (0.6.1)\n",
            "Requirement already satisfied: tqdm<5.0.0,>=4.38.0 in /usr/local/lib/python3.7/dist-packages (from spacy<3.4.0,>=3.3.0.dev0->en-core-web-sm==3.3.0) (4.64.0)\n",
            "Requirement already satisfied: numpy>=1.15.0 in /usr/local/lib/python3.7/dist-packages (from spacy<3.4.0,>=3.3.0.dev0->en-core-web-sm==3.3.0) (1.21.6)\n",
            "Requirement already satisfied: blis<0.8.0,>=0.4.0 in /usr/local/lib/python3.7/dist-packages (from spacy<3.4.0,>=3.3.0.dev0->en-core-web-sm==3.3.0) (0.4.1)\n",
            "Requirement already satisfied: spacy-legacy<3.1.0,>=3.0.9 in /usr/local/lib/python3.7/dist-packages (from spacy<3.4.0,>=3.3.0.dev0->en-core-web-sm==3.3.0) (3.0.9)\n",
            "Requirement already satisfied: srsly<3.0.0,>=2.4.3 in /usr/local/lib/python3.7/dist-packages (from spacy<3.4.0,>=3.3.0.dev0->en-core-web-sm==3.3.0) (2.4.3)\n",
            "Requirement already satisfied: thinc<8.1.0,>=8.0.14 in /usr/local/lib/python3.7/dist-packages (from spacy<3.4.0,>=3.3.0.dev0->en-core-web-sm==3.3.0) (8.0.17)\n",
            "Requirement already satisfied: langcodes<4.0.0,>=3.2.0 in /usr/local/lib/python3.7/dist-packages (from spacy<3.4.0,>=3.3.0.dev0->en-core-web-sm==3.3.0) (3.3.0)\n",
            "Requirement already satisfied: wasabi<1.1.0,>=0.9.1 in /usr/local/lib/python3.7/dist-packages (from spacy<3.4.0,>=3.3.0.dev0->en-core-web-sm==3.3.0) (0.9.1)\n",
            "Requirement already satisfied: spacy-loggers<2.0.0,>=1.0.0 in /usr/local/lib/python3.7/dist-packages (from spacy<3.4.0,>=3.3.0.dev0->en-core-web-sm==3.3.0) (1.0.2)\n",
            "Requirement already satisfied: requests<3.0.0,>=2.13.0 in /usr/local/lib/python3.7/dist-packages (from spacy<3.4.0,>=3.3.0.dev0->en-core-web-sm==3.3.0) (2.28.0)\n",
            "Requirement already satisfied: cymem<2.1.0,>=2.0.2 in /usr/local/lib/python3.7/dist-packages (from spacy<3.4.0,>=3.3.0.dev0->en-core-web-sm==3.3.0) (2.0.6)\n",
            "Requirement already satisfied: typing-extensions<4.2.0,>=3.7.4 in /usr/local/lib/python3.7/dist-packages (from spacy<3.4.0,>=3.3.0.dev0->en-core-web-sm==3.3.0) (4.1.1)\n",
            "Requirement already satisfied: catalogue<2.1.0,>=2.0.6 in /usr/local/lib/python3.7/dist-packages (from spacy<3.4.0,>=3.3.0.dev0->en-core-web-sm==3.3.0) (2.0.7)\n",
            "Requirement already satisfied: packaging>=20.0 in /usr/local/lib/python3.7/dist-packages (from spacy<3.4.0,>=3.3.0.dev0->en-core-web-sm==3.3.0) (21.3)\n",
            "Requirement already satisfied: preshed<3.1.0,>=3.0.2 in /usr/local/lib/python3.7/dist-packages (from spacy<3.4.0,>=3.3.0.dev0->en-core-web-sm==3.3.0) (3.0.6)\n",
            "Requirement already satisfied: setuptools in /usr/local/lib/python3.7/dist-packages (from spacy<3.4.0,>=3.3.0.dev0->en-core-web-sm==3.3.0) (57.4.0)\n",
            "Requirement already satisfied: zipp>=0.5 in /usr/local/lib/python3.7/dist-packages (from catalogue<2.1.0,>=2.0.6->spacy<3.4.0,>=3.3.0.dev0->en-core-web-sm==3.3.0) (3.8.0)\n",
            "Requirement already satisfied: pyparsing!=3.0.5,>=2.0.2 in /usr/local/lib/python3.7/dist-packages (from packaging>=20.0->spacy<3.4.0,>=3.3.0.dev0->en-core-web-sm==3.3.0) (3.0.9)\n",
            "Requirement already satisfied: smart-open<6.0.0,>=5.0.0 in /usr/local/lib/python3.7/dist-packages (from pathy>=0.3.5->spacy<3.4.0,>=3.3.0.dev0->en-core-web-sm==3.3.0) (5.2.1)\n",
            "Requirement already satisfied: idna<4,>=2.5 in /usr/local/lib/python3.7/dist-packages (from requests<3.0.0,>=2.13.0->spacy<3.4.0,>=3.3.0.dev0->en-core-web-sm==3.3.0) (2.10)\n",
            "Requirement already satisfied: urllib3<1.27,>=1.21.1 in /usr/local/lib/python3.7/dist-packages (from requests<3.0.0,>=2.13.0->spacy<3.4.0,>=3.3.0.dev0->en-core-web-sm==3.3.0) (1.24.3)\n",
            "Requirement already satisfied: certifi>=2017.4.17 in /usr/local/lib/python3.7/dist-packages (from requests<3.0.0,>=2.13.0->spacy<3.4.0,>=3.3.0.dev0->en-core-web-sm==3.3.0) (2022.5.18.1)\n",
            "Requirement already satisfied: charset-normalizer~=2.0.0 in /usr/local/lib/python3.7/dist-packages (from requests<3.0.0,>=2.13.0->spacy<3.4.0,>=3.3.0.dev0->en-core-web-sm==3.3.0) (2.0.12)\n",
            "Requirement already satisfied: click<9.0.0,>=7.1.1 in /usr/local/lib/python3.7/dist-packages (from typer<0.5.0,>=0.3.0->spacy<3.4.0,>=3.3.0.dev0->en-core-web-sm==3.3.0) (7.1.2)\n",
            "Requirement already satisfied: MarkupSafe>=0.23 in /usr/local/lib/python3.7/dist-packages (from jinja2->spacy<3.4.0,>=3.3.0.dev0->en-core-web-sm==3.3.0) (2.0.1)\n",
            "\u001b[38;5;2m✔ Download and installation successful\u001b[0m\n",
            "You can now load the package via spacy.load('en_core_web_sm')\n",
            "[nltk_data] Downloading collection 'popular'\n",
            "[nltk_data]    | \n",
            "[nltk_data]    | Downloading package cmudict to /root/nltk_data...\n",
            "[nltk_data]    |   Unzipping corpora/cmudict.zip.\n",
            "[nltk_data]    | Downloading package gazetteers to /root/nltk_data...\n",
            "[nltk_data]    |   Unzipping corpora/gazetteers.zip.\n",
            "[nltk_data]    | Downloading package genesis to /root/nltk_data...\n",
            "[nltk_data]    |   Unzipping corpora/genesis.zip.\n",
            "[nltk_data]    | Downloading package gutenberg to /root/nltk_data...\n",
            "[nltk_data]    |   Unzipping corpora/gutenberg.zip.\n",
            "[nltk_data]    | Downloading package inaugural to /root/nltk_data...\n",
            "[nltk_data]    |   Unzipping corpora/inaugural.zip.\n",
            "[nltk_data]    | Downloading package movie_reviews to\n",
            "[nltk_data]    |     /root/nltk_data...\n",
            "[nltk_data]    |   Unzipping corpora/movie_reviews.zip.\n",
            "[nltk_data]    | Downloading package names to /root/nltk_data...\n",
            "[nltk_data]    |   Unzipping corpora/names.zip.\n",
            "[nltk_data]    | Downloading package shakespeare to /root/nltk_data...\n",
            "[nltk_data]    |   Unzipping corpora/shakespeare.zip.\n",
            "[nltk_data]    | Downloading package stopwords to /root/nltk_data...\n",
            "[nltk_data]    |   Unzipping corpora/stopwords.zip.\n",
            "[nltk_data]    | Downloading package treebank to /root/nltk_data...\n",
            "[nltk_data]    |   Unzipping corpora/treebank.zip.\n",
            "[nltk_data]    | Downloading package twitter_samples to\n",
            "[nltk_data]    |     /root/nltk_data...\n",
            "[nltk_data]    |   Unzipping corpora/twitter_samples.zip.\n",
            "[nltk_data]    | Downloading package omw to /root/nltk_data...\n",
            "[nltk_data]    |   Unzipping corpora/omw.zip.\n",
            "[nltk_data]    | Downloading package omw-1.4 to /root/nltk_data...\n",
            "[nltk_data]    |   Unzipping corpora/omw-1.4.zip.\n",
            "[nltk_data]    | Downloading package wordnet to /root/nltk_data...\n",
            "[nltk_data]    |   Unzipping corpora/wordnet.zip.\n",
            "[nltk_data]    | Downloading package wordnet2021 to /root/nltk_data...\n",
            "[nltk_data]    |   Unzipping corpora/wordnet2021.zip.\n",
            "[nltk_data]    | Downloading package wordnet31 to /root/nltk_data...\n",
            "[nltk_data]    |   Unzipping corpora/wordnet31.zip.\n",
            "[nltk_data]    | Downloading package wordnet_ic to /root/nltk_data...\n",
            "[nltk_data]    |   Unzipping corpora/wordnet_ic.zip.\n",
            "[nltk_data]    | Downloading package words to /root/nltk_data...\n",
            "[nltk_data]    |   Unzipping corpora/words.zip.\n",
            "[nltk_data]    | Downloading package maxent_ne_chunker to\n",
            "[nltk_data]    |     /root/nltk_data...\n",
            "[nltk_data]    |   Unzipping chunkers/maxent_ne_chunker.zip.\n",
            "[nltk_data]    | Downloading package punkt to /root/nltk_data...\n",
            "[nltk_data]    |   Unzipping tokenizers/punkt.zip.\n",
            "[nltk_data]    | Downloading package snowball_data to\n",
            "[nltk_data]    |     /root/nltk_data...\n",
            "[nltk_data]    | Downloading package averaged_perceptron_tagger to\n",
            "[nltk_data]    |     /root/nltk_data...\n",
            "[nltk_data]    |   Unzipping taggers/averaged_perceptron_tagger.zip.\n",
            "[nltk_data]    | \n",
            "[nltk_data]  Done downloading collection popular\n"
          ]
        }
      ]
    },
    {
      "cell_type": "code",
      "source": [
        "import taudataDDGsna as tau\n",
        "import tweepy, json, urllib.request, requests\n",
        "from urllib.request import Request, urlopen\n",
        "from twython import TwythonStreamer\n",
        "from bs4 import BeautifulSoup as bs\n",
        "from tqdm import tqdm\n",
        "\"Done\""
      ],
      "metadata": {
        "colab": {
          "base_uri": "https://localhost:8080/",
          "height": 35
        },
        "id": "ptmO5v5LNUE2",
        "outputId": "fc80aa15-c25a-429a-e875-018a6f895964"
      },
      "execution_count": null,
      "outputs": [
        {
          "output_type": "execute_result",
          "data": {
            "text/plain": [
              "'Done'"
            ],
            "application/vnd.google.colaboratory.intrinsic+json": {
              "type": "string"
            }
          },
          "metadata": {},
          "execution_count": 8
        }
      ]
    },
    {
      "cell_type": "code",
      "source": [
        "Ck = 'p76aa3SQdGXG6KlOFB2rlEYN8' # consumer_key\n",
        "Cs = '7QY41F7LK449lKVUoi1sKlZidq6ALYVh4FEKQj2Ph6XmT4IN7N' # consumer_secret\n",
        "At = '529202222-MB1NLjJGxeZA6gKiiDFaHrPMVdGid1oOp7ZwDXyL' # access_token\n",
        "As = '1Yali9pzlbHyMRq5ta5FAPu1KQ4r2UsS6ujZGfXbNQxFo' # access_secret\n",
        "\n",
        "'Done'"
      ],
      "metadata": {
        "colab": {
          "base_uri": "https://localhost:8080/",
          "height": 35
        },
        "id": "-rtNjtLcNfdN",
        "outputId": "c8410e11-5a76-4751-a59c-760d32778771"
      },
      "execution_count": null,
      "outputs": [
        {
          "output_type": "execute_result",
          "data": {
            "text/plain": [
              "'Done'"
            ],
            "application/vnd.google.colaboratory.intrinsic+json": {
              "type": "string"
            }
          },
          "metadata": {},
          "execution_count": 3
        }
      ]
    },
    {
      "cell_type": "code",
      "source": [
        "import tweepy\n",
        "\n",
        "auth = tweepy.auth.OAuthHandler(Ck, Cs)\n",
        "auth.set_access_token(At, As)\n",
        "api = tweepy.API(auth, wait_on_rate_limit=True, timeout=180, retry_count=5, retry_delay=3)\n",
        "usr_ = api.verify_credentials()\n",
        "print('Welcome, you are now connected to twitter server')"
      ],
      "metadata": {
        "colab": {
          "base_uri": "https://localhost:8080/"
        },
        "id": "H1WW-nGOOglx",
        "outputId": "065a66d4-d186-4b31-8ce9-1ca66d84c56e"
      },
      "execution_count": null,
      "outputs": [
        {
          "output_type": "stream",
          "name": "stdout",
          "text": [
            "Welcome, you are now connected to twitter server\n"
          ]
        }
      ]
    },
    {
      "cell_type": "code",
      "source": [
        "status = \"Tweet Digital Data Gathering - Kuliah EVDA\"\n",
        "t = api.update_status(status)\n",
        "# Silahkan cek timeline setelah ini\n",
        "\"Done! ... Silahkan cek timeline twitter anda.\""
      ],
      "metadata": {
        "colab": {
          "base_uri": "https://localhost:8080/",
          "height": 35
        },
        "id": "06ECqu_YPIWF",
        "outputId": "188522a1-de1c-4c63-b834-dbe2b954f4fc"
      },
      "execution_count": null,
      "outputs": [
        {
          "output_type": "execute_result",
          "data": {
            "text/plain": [
              "'Done! ... Silahkan cek timeline twitter anda.'"
            ],
            "application/vnd.google.colaboratory.intrinsic+json": {
              "type": "string"
            }
          },
          "metadata": {},
          "execution_count": 5
        }
      ]
    },
    {
      "cell_type": "code",
      "source": [
        "qry = 'mie gacoan'\n",
        "N = 1000 # jumlah N tweet \"terkini\" yang ingin diambil\n",
        "T = []\n",
        "for post in tqdm(tweepy.Cursor(api.search_tweets, q=qry, lang='id', tweet_mode='extended').items(N)):\n",
        "    T.append(post)\n",
        "\n",
        "\"Done\""
      ],
      "metadata": {
        "colab": {
          "base_uri": "https://localhost:8080/",
          "height": 52
        },
        "id": "78epr_OwPa7e",
        "outputId": "41c9bb2e-8e79-45b2-9ec2-f2241abaec75"
      },
      "execution_count": null,
      "outputs": [
        {
          "output_type": "stream",
          "name": "stderr",
          "text": [
            "1000it [00:15, 64.82it/s]\n"
          ]
        },
        {
          "output_type": "execute_result",
          "data": {
            "text/plain": [
              "'Done'"
            ],
            "application/vnd.google.colaboratory.intrinsic+json": {
              "type": "string"
            }
          },
          "metadata": {},
          "execution_count": 6
        }
      ]
    },
    {
      "cell_type": "code",
      "source": [
        "T[0]._json"
      ],
      "metadata": {
        "colab": {
          "base_uri": "https://localhost:8080/"
        },
        "id": "vpX5GfiOQ746",
        "outputId": "7a7654b2-e6ad-4545-b57b-9a0d911076d9"
      },
      "execution_count": null,
      "outputs": [
        {
          "output_type": "execute_result",
          "data": {
            "text/plain": [
              "{'contributors': None,\n",
              " 'coordinates': None,\n",
              " 'created_at': 'Fri Jun 10 00:15:23 +0000 2022',\n",
              " 'display_text_range': [0, 24],\n",
              " 'entities': {'hashtags': [],\n",
              "  'symbols': [],\n",
              "  'urls': [{'display_url': 'twitter.com/Art0fLife_/sta…',\n",
              "    'expanded_url': 'https://twitter.com/Art0fLife_/status/1534802161623769088',\n",
              "    'indices': [25, 48],\n",
              "    'url': 'https://t.co/rsGOOkBNjA'}],\n",
              "  'user_mentions': []},\n",
              " 'favorite_count': 0,\n",
              " 'favorited': False,\n",
              " 'full_text': 'Mie Gacoan kok ga ada :( https://t.co/rsGOOkBNjA',\n",
              " 'geo': None,\n",
              " 'id': 1535052974560378881,\n",
              " 'id_str': '1535052974560378881',\n",
              " 'in_reply_to_screen_name': None,\n",
              " 'in_reply_to_status_id': None,\n",
              " 'in_reply_to_status_id_str': None,\n",
              " 'in_reply_to_user_id': None,\n",
              " 'in_reply_to_user_id_str': None,\n",
              " 'is_quote_status': True,\n",
              " 'lang': 'in',\n",
              " 'metadata': {'iso_language_code': 'in', 'result_type': 'recent'},\n",
              " 'place': None,\n",
              " 'possibly_sensitive': False,\n",
              " 'quoted_status': {'contributors': None,\n",
              "  'coordinates': None,\n",
              "  'created_at': 'Thu Jun 09 07:38:45 +0000 2022',\n",
              "  'display_text_range': [0, 56],\n",
              "  'entities': {'hashtags': [],\n",
              "   'media': [{'display_url': 'pic.twitter.com/X0UtRh64lX',\n",
              "     'expanded_url': 'https://twitter.com/Art0fLife_/status/1534802161623769088/photo/1',\n",
              "     'id': 1534802159497269249,\n",
              "     'id_str': '1534802159497269249',\n",
              "     'indices': [57, 80],\n",
              "     'media_url': 'http://pbs.twimg.com/media/FUy2bq1WUAEKI66.jpg',\n",
              "     'media_url_https': 'https://pbs.twimg.com/media/FUy2bq1WUAEKI66.jpg',\n",
              "     'sizes': {'large': {'h': 628, 'resize': 'fit', 'w': 1000},\n",
              "      'medium': {'h': 628, 'resize': 'fit', 'w': 1000},\n",
              "      'small': {'h': 427, 'resize': 'fit', 'w': 680},\n",
              "      'thumb': {'h': 150, 'resize': 'crop', 'w': 150}},\n",
              "     'type': 'photo',\n",
              "     'url': 'https://t.co/X0UtRh64lX'}],\n",
              "   'symbols': [],\n",
              "   'urls': [],\n",
              "   'user_mentions': []},\n",
              "  'extended_entities': {'media': [{'display_url': 'pic.twitter.com/X0UtRh64lX',\n",
              "     'expanded_url': 'https://twitter.com/Art0fLife_/status/1534802161623769088/photo/1',\n",
              "     'id': 1534802159497269249,\n",
              "     'id_str': '1534802159497269249',\n",
              "     'indices': [57, 80],\n",
              "     'media_url': 'http://pbs.twimg.com/media/FUy2bq1WUAEKI66.jpg',\n",
              "     'media_url_https': 'https://pbs.twimg.com/media/FUy2bq1WUAEKI66.jpg',\n",
              "     'sizes': {'large': {'h': 628, 'resize': 'fit', 'w': 1000},\n",
              "      'medium': {'h': 628, 'resize': 'fit', 'w': 1000},\n",
              "      'small': {'h': 427, 'resize': 'fit', 'w': 680},\n",
              "      'thumb': {'h': 150, 'resize': 'crop', 'w': 150}},\n",
              "     'type': 'photo',\n",
              "     'url': 'https://t.co/X0UtRh64lX'}]},\n",
              "  'favorite_count': 24480,\n",
              "  'favorited': False,\n",
              "  'full_text': '10 places to visit before you die\\n\\n1. Cappadocia, Turkey https://t.co/X0UtRh64lX',\n",
              "  'geo': None,\n",
              "  'id': 1534802161623769088,\n",
              "  'id_str': '1534802161623769088',\n",
              "  'in_reply_to_screen_name': None,\n",
              "  'in_reply_to_status_id': None,\n",
              "  'in_reply_to_status_id_str': None,\n",
              "  'in_reply_to_user_id': None,\n",
              "  'in_reply_to_user_id_str': None,\n",
              "  'is_quote_status': False,\n",
              "  'lang': 'en',\n",
              "  'metadata': {'iso_language_code': 'in', 'result_type': 'recent'},\n",
              "  'place': None,\n",
              "  'possibly_sensitive': False,\n",
              "  'retweet_count': 5717,\n",
              "  'retweeted': False,\n",
              "  'source': '<a href=\"http://twitter.com/download/android\" rel=\"nofollow\">Twitter for Android</a>',\n",
              "  'truncated': False,\n",
              "  'user': {'contributors_enabled': False,\n",
              "   'created_at': 'Thu Aug 05 08:38:57 +0000 2021',\n",
              "   'default_profile': True,\n",
              "   'default_profile_image': False,\n",
              "   'description': 'Actionable insights on Life, Mastering your Mind and Becoming your best self.',\n",
              "   'entities': {'description': {'urls': []},\n",
              "    'url': {'urls': [{'display_url': 'gumroad.com/a/246371443/vr…',\n",
              "       'expanded_url': 'https://gumroad.com/a/246371443/vrvFg',\n",
              "       'indices': [0, 23],\n",
              "       'url': 'https://t.co/FF3LgGFxQW'}]}},\n",
              "   'favourites_count': 40803,\n",
              "   'follow_request_sent': False,\n",
              "   'followers_count': 201707,\n",
              "   'following': False,\n",
              "   'friends_count': 100,\n",
              "   'geo_enabled': False,\n",
              "   'has_extended_profile': False,\n",
              "   'id': 1423201808202309634,\n",
              "   'id_str': '1423201808202309634',\n",
              "   'is_translation_enabled': False,\n",
              "   'is_translator': False,\n",
              "   'lang': None,\n",
              "   'listed_count': 2379,\n",
              "   'location': 'Transform your Life ➣',\n",
              "   'name': 'Art of Life 🦋',\n",
              "   'notifications': False,\n",
              "   'profile_background_color': 'F5F8FA',\n",
              "   'profile_background_image_url': None,\n",
              "   'profile_background_image_url_https': None,\n",
              "   'profile_background_tile': False,\n",
              "   'profile_banner_url': 'https://pbs.twimg.com/profile_banners/1423201808202309634/1647361089',\n",
              "   'profile_image_url': 'http://pbs.twimg.com/profile_images/1503769348778909697/LyGeLCBq_normal.jpg',\n",
              "   'profile_image_url_https': 'https://pbs.twimg.com/profile_images/1503769348778909697/LyGeLCBq_normal.jpg',\n",
              "   'profile_link_color': '1DA1F2',\n",
              "   'profile_sidebar_border_color': 'C0DEED',\n",
              "   'profile_sidebar_fill_color': 'DDEEF6',\n",
              "   'profile_text_color': '333333',\n",
              "   'profile_use_background_image': True,\n",
              "   'protected': False,\n",
              "   'screen_name': 'Art0fLife_',\n",
              "   'statuses_count': 15576,\n",
              "   'time_zone': None,\n",
              "   'translator_type': 'none',\n",
              "   'url': 'https://t.co/FF3LgGFxQW',\n",
              "   'utc_offset': None,\n",
              "   'verified': False,\n",
              "   'withheld_in_countries': []}},\n",
              " 'quoted_status_id': 1534802161623769088,\n",
              " 'quoted_status_id_str': '1534802161623769088',\n",
              " 'retweet_count': 0,\n",
              " 'retweeted': False,\n",
              " 'source': '<a href=\"https://mobile.twitter.com\" rel=\"nofollow\">Twitter Web App</a>',\n",
              " 'truncated': False,\n",
              " 'user': {'contributors_enabled': False,\n",
              "  'created_at': 'Thu Apr 13 09:55:22 +0000 2017',\n",
              "  'default_profile': False,\n",
              "  'default_profile_image': False,\n",
              "  'description': 'Senengane diarani Arek JP, Bonek Dadakan padahal kenal ae nggak 😪\\n\\nAda yang bisa dimantu?\\n\\n____________________',\n",
              "  'entities': {'description': {'urls': []}},\n",
              "  'favourites_count': 3170,\n",
              "  'follow_request_sent': False,\n",
              "  'followers_count': 2066,\n",
              "  'following': False,\n",
              "  'friends_count': 238,\n",
              "  'geo_enabled': False,\n",
              "  'has_extended_profile': False,\n",
              "  'id': 852460193346592769,\n",
              "  'id_str': '852460193346592769',\n",
              "  'is_translation_enabled': False,\n",
              "  'is_translator': False,\n",
              "  'lang': None,\n",
              "  'listed_count': 3,\n",
              "  'location': 'In Your Timeline',\n",
              "  'name': 'Judi Apalagi ✨',\n",
              "  'notifications': False,\n",
              "  'profile_background_color': '000000',\n",
              "  'profile_background_image_url': 'http://abs.twimg.com/images/themes/theme1/bg.png',\n",
              "  'profile_background_image_url_https': 'https://abs.twimg.com/images/themes/theme1/bg.png',\n",
              "  'profile_background_tile': False,\n",
              "  'profile_banner_url': 'https://pbs.twimg.com/profile_banners/852460193346592769/1492448343',\n",
              "  'profile_image_url': 'http://pbs.twimg.com/profile_images/901306638354718720/m3CGzkUU_normal.jpg',\n",
              "  'profile_image_url_https': 'https://pbs.twimg.com/profile_images/901306638354718720/m3CGzkUU_normal.jpg',\n",
              "  'profile_link_color': '19CF86',\n",
              "  'profile_sidebar_border_color': '000000',\n",
              "  'profile_sidebar_fill_color': '000000',\n",
              "  'profile_text_color': '000000',\n",
              "  'profile_use_background_image': False,\n",
              "  'protected': False,\n",
              "  'screen_name': 'BukanPegawaiJP',\n",
              "  'statuses_count': 50148,\n",
              "  'time_zone': None,\n",
              "  'translator_type': 'none',\n",
              "  'url': None,\n",
              "  'utc_offset': None,\n",
              "  'verified': False,\n",
              "  'withheld_in_countries': []}}"
            ]
          },
          "metadata": {},
          "execution_count": 7
        }
      ]
    },
    {
      "cell_type": "code",
      "source": [
        "# T bukan sekedar list of tweets\n",
        "tweet = [t._json for t in T]\n",
        "print(' Berhasil mendapatkan {} tweets'.format(len(tweet)))"
      ],
      "metadata": {
        "colab": {
          "base_uri": "https://localhost:8080/"
        },
        "id": "B4lP9ZyVRBV9",
        "outputId": "537ecfb5-1875-465f-d886-faee08f731b6"
      },
      "execution_count": null,
      "outputs": [
        {
          "output_type": "stream",
          "name": "stdout",
          "text": [
            " Berhasil mendapatkan 1000 tweets\n"
          ]
        }
      ]
    },
    {
      "cell_type": "code",
      "source": [
        "# Data pertama\n",
        "tweet[0]"
      ],
      "metadata": {
        "id": "p9RpzdW_RKiR",
        "colab": {
          "base_uri": "https://localhost:8080/"
        },
        "outputId": "05f6ba62-b927-430b-d97f-e3f3e97e156a"
      },
      "execution_count": null,
      "outputs": [
        {
          "output_type": "execute_result",
          "data": {
            "text/plain": [
              "{'contributors': None,\n",
              " 'coordinates': None,\n",
              " 'created_at': 'Fri Jun 10 00:15:23 +0000 2022',\n",
              " 'display_text_range': [0, 24],\n",
              " 'entities': {'hashtags': [],\n",
              "  'symbols': [],\n",
              "  'urls': [{'display_url': 'twitter.com/Art0fLife_/sta…',\n",
              "    'expanded_url': 'https://twitter.com/Art0fLife_/status/1534802161623769088',\n",
              "    'indices': [25, 48],\n",
              "    'url': 'https://t.co/rsGOOkBNjA'}],\n",
              "  'user_mentions': []},\n",
              " 'favorite_count': 0,\n",
              " 'favorited': False,\n",
              " 'full_text': 'Mie Gacoan kok ga ada :( https://t.co/rsGOOkBNjA',\n",
              " 'geo': None,\n",
              " 'id': 1535052974560378881,\n",
              " 'id_str': '1535052974560378881',\n",
              " 'in_reply_to_screen_name': None,\n",
              " 'in_reply_to_status_id': None,\n",
              " 'in_reply_to_status_id_str': None,\n",
              " 'in_reply_to_user_id': None,\n",
              " 'in_reply_to_user_id_str': None,\n",
              " 'is_quote_status': True,\n",
              " 'lang': 'in',\n",
              " 'metadata': {'iso_language_code': 'in', 'result_type': 'recent'},\n",
              " 'place': None,\n",
              " 'possibly_sensitive': False,\n",
              " 'quoted_status': {'contributors': None,\n",
              "  'coordinates': None,\n",
              "  'created_at': 'Thu Jun 09 07:38:45 +0000 2022',\n",
              "  'display_text_range': [0, 56],\n",
              "  'entities': {'hashtags': [],\n",
              "   'media': [{'display_url': 'pic.twitter.com/X0UtRh64lX',\n",
              "     'expanded_url': 'https://twitter.com/Art0fLife_/status/1534802161623769088/photo/1',\n",
              "     'id': 1534802159497269249,\n",
              "     'id_str': '1534802159497269249',\n",
              "     'indices': [57, 80],\n",
              "     'media_url': 'http://pbs.twimg.com/media/FUy2bq1WUAEKI66.jpg',\n",
              "     'media_url_https': 'https://pbs.twimg.com/media/FUy2bq1WUAEKI66.jpg',\n",
              "     'sizes': {'large': {'h': 628, 'resize': 'fit', 'w': 1000},\n",
              "      'medium': {'h': 628, 'resize': 'fit', 'w': 1000},\n",
              "      'small': {'h': 427, 'resize': 'fit', 'w': 680},\n",
              "      'thumb': {'h': 150, 'resize': 'crop', 'w': 150}},\n",
              "     'type': 'photo',\n",
              "     'url': 'https://t.co/X0UtRh64lX'}],\n",
              "   'symbols': [],\n",
              "   'urls': [],\n",
              "   'user_mentions': []},\n",
              "  'extended_entities': {'media': [{'display_url': 'pic.twitter.com/X0UtRh64lX',\n",
              "     'expanded_url': 'https://twitter.com/Art0fLife_/status/1534802161623769088/photo/1',\n",
              "     'id': 1534802159497269249,\n",
              "     'id_str': '1534802159497269249',\n",
              "     'indices': [57, 80],\n",
              "     'media_url': 'http://pbs.twimg.com/media/FUy2bq1WUAEKI66.jpg',\n",
              "     'media_url_https': 'https://pbs.twimg.com/media/FUy2bq1WUAEKI66.jpg',\n",
              "     'sizes': {'large': {'h': 628, 'resize': 'fit', 'w': 1000},\n",
              "      'medium': {'h': 628, 'resize': 'fit', 'w': 1000},\n",
              "      'small': {'h': 427, 'resize': 'fit', 'w': 680},\n",
              "      'thumb': {'h': 150, 'resize': 'crop', 'w': 150}},\n",
              "     'type': 'photo',\n",
              "     'url': 'https://t.co/X0UtRh64lX'}]},\n",
              "  'favorite_count': 24480,\n",
              "  'favorited': False,\n",
              "  'full_text': '10 places to visit before you die\\n\\n1. Cappadocia, Turkey https://t.co/X0UtRh64lX',\n",
              "  'geo': None,\n",
              "  'id': 1534802161623769088,\n",
              "  'id_str': '1534802161623769088',\n",
              "  'in_reply_to_screen_name': None,\n",
              "  'in_reply_to_status_id': None,\n",
              "  'in_reply_to_status_id_str': None,\n",
              "  'in_reply_to_user_id': None,\n",
              "  'in_reply_to_user_id_str': None,\n",
              "  'is_quote_status': False,\n",
              "  'lang': 'en',\n",
              "  'metadata': {'iso_language_code': 'in', 'result_type': 'recent'},\n",
              "  'place': None,\n",
              "  'possibly_sensitive': False,\n",
              "  'retweet_count': 5717,\n",
              "  'retweeted': False,\n",
              "  'source': '<a href=\"http://twitter.com/download/android\" rel=\"nofollow\">Twitter for Android</a>',\n",
              "  'truncated': False,\n",
              "  'user': {'contributors_enabled': False,\n",
              "   'created_at': 'Thu Aug 05 08:38:57 +0000 2021',\n",
              "   'default_profile': True,\n",
              "   'default_profile_image': False,\n",
              "   'description': 'Actionable insights on Life, Mastering your Mind and Becoming your best self.',\n",
              "   'entities': {'description': {'urls': []},\n",
              "    'url': {'urls': [{'display_url': 'gumroad.com/a/246371443/vr…',\n",
              "       'expanded_url': 'https://gumroad.com/a/246371443/vrvFg',\n",
              "       'indices': [0, 23],\n",
              "       'url': 'https://t.co/FF3LgGFxQW'}]}},\n",
              "   'favourites_count': 40803,\n",
              "   'follow_request_sent': False,\n",
              "   'followers_count': 201707,\n",
              "   'following': False,\n",
              "   'friends_count': 100,\n",
              "   'geo_enabled': False,\n",
              "   'has_extended_profile': False,\n",
              "   'id': 1423201808202309634,\n",
              "   'id_str': '1423201808202309634',\n",
              "   'is_translation_enabled': False,\n",
              "   'is_translator': False,\n",
              "   'lang': None,\n",
              "   'listed_count': 2379,\n",
              "   'location': 'Transform your Life ➣',\n",
              "   'name': 'Art of Life 🦋',\n",
              "   'notifications': False,\n",
              "   'profile_background_color': 'F5F8FA',\n",
              "   'profile_background_image_url': None,\n",
              "   'profile_background_image_url_https': None,\n",
              "   'profile_background_tile': False,\n",
              "   'profile_banner_url': 'https://pbs.twimg.com/profile_banners/1423201808202309634/1647361089',\n",
              "   'profile_image_url': 'http://pbs.twimg.com/profile_images/1503769348778909697/LyGeLCBq_normal.jpg',\n",
              "   'profile_image_url_https': 'https://pbs.twimg.com/profile_images/1503769348778909697/LyGeLCBq_normal.jpg',\n",
              "   'profile_link_color': '1DA1F2',\n",
              "   'profile_sidebar_border_color': 'C0DEED',\n",
              "   'profile_sidebar_fill_color': 'DDEEF6',\n",
              "   'profile_text_color': '333333',\n",
              "   'profile_use_background_image': True,\n",
              "   'protected': False,\n",
              "   'screen_name': 'Art0fLife_',\n",
              "   'statuses_count': 15576,\n",
              "   'time_zone': None,\n",
              "   'translator_type': 'none',\n",
              "   'url': 'https://t.co/FF3LgGFxQW',\n",
              "   'utc_offset': None,\n",
              "   'verified': False,\n",
              "   'withheld_in_countries': []}},\n",
              " 'quoted_status_id': 1534802161623769088,\n",
              " 'quoted_status_id_str': '1534802161623769088',\n",
              " 'retweet_count': 0,\n",
              " 'retweeted': False,\n",
              " 'source': '<a href=\"https://mobile.twitter.com\" rel=\"nofollow\">Twitter Web App</a>',\n",
              " 'truncated': False,\n",
              " 'user': {'contributors_enabled': False,\n",
              "  'created_at': 'Thu Apr 13 09:55:22 +0000 2017',\n",
              "  'default_profile': False,\n",
              "  'default_profile_image': False,\n",
              "  'description': 'Senengane diarani Arek JP, Bonek Dadakan padahal kenal ae nggak 😪\\n\\nAda yang bisa dimantu?\\n\\n____________________',\n",
              "  'entities': {'description': {'urls': []}},\n",
              "  'favourites_count': 3170,\n",
              "  'follow_request_sent': False,\n",
              "  'followers_count': 2066,\n",
              "  'following': False,\n",
              "  'friends_count': 238,\n",
              "  'geo_enabled': False,\n",
              "  'has_extended_profile': False,\n",
              "  'id': 852460193346592769,\n",
              "  'id_str': '852460193346592769',\n",
              "  'is_translation_enabled': False,\n",
              "  'is_translator': False,\n",
              "  'lang': None,\n",
              "  'listed_count': 3,\n",
              "  'location': 'In Your Timeline',\n",
              "  'name': 'Judi Apalagi ✨',\n",
              "  'notifications': False,\n",
              "  'profile_background_color': '000000',\n",
              "  'profile_background_image_url': 'http://abs.twimg.com/images/themes/theme1/bg.png',\n",
              "  'profile_background_image_url_https': 'https://abs.twimg.com/images/themes/theme1/bg.png',\n",
              "  'profile_background_tile': False,\n",
              "  'profile_banner_url': 'https://pbs.twimg.com/profile_banners/852460193346592769/1492448343',\n",
              "  'profile_image_url': 'http://pbs.twimg.com/profile_images/901306638354718720/m3CGzkUU_normal.jpg',\n",
              "  'profile_image_url_https': 'https://pbs.twimg.com/profile_images/901306638354718720/m3CGzkUU_normal.jpg',\n",
              "  'profile_link_color': '19CF86',\n",
              "  'profile_sidebar_border_color': '000000',\n",
              "  'profile_sidebar_fill_color': '000000',\n",
              "  'profile_text_color': '000000',\n",
              "  'profile_use_background_image': False,\n",
              "  'protected': False,\n",
              "  'screen_name': 'BukanPegawaiJP',\n",
              "  'statuses_count': 50148,\n",
              "  'time_zone': None,\n",
              "  'translator_type': 'none',\n",
              "  'url': None,\n",
              "  'utc_offset': None,\n",
              "  'verified': False,\n",
              "  'withheld_in_countries': []}}"
            ]
          },
          "metadata": {},
          "execution_count": 9
        }
      ]
    },
    {
      "cell_type": "code",
      "source": [
        "# Datanya berbentuk JSON\n",
        "tweet[0]['created_at'], tweet[0]['full_text']"
      ],
      "metadata": {
        "colab": {
          "base_uri": "https://localhost:8080/"
        },
        "id": "r3vBG2GTRVES",
        "outputId": "266b81fb-7fb1-41b6-bfb1-b8c16c8a0cf5"
      },
      "execution_count": null,
      "outputs": [
        {
          "output_type": "execute_result",
          "data": {
            "text/plain": [
              "('Fri Jun 10 00:15:23 +0000 2022',\n",
              " 'Mie Gacoan kok ga ada :( https://t.co/rsGOOkBNjA')"
            ]
          },
          "metadata": {},
          "execution_count": 10
        }
      ]
    },
    {
      "cell_type": "code",
      "source": [
        "# Contoh mengakses data spesifik pada tweet yang pertama:\n",
        "print('tweet pertama oleh \"{}\" : \"{}\"'.format(tweet[0]['user']['screen_name'],tweet[0]['full_text']))"
      ],
      "metadata": {
        "colab": {
          "base_uri": "https://localhost:8080/"
        },
        "id": "iR0unb0MRcGd",
        "outputId": "9ecb5c25-5312-492b-db2a-fee8bfbc545c"
      },
      "execution_count": null,
      "outputs": [
        {
          "output_type": "stream",
          "name": "stdout",
          "text": [
            "tweet pertama oleh \"BukanPegawaiJP\" : \"Mie Gacoan kok ga ada :( https://t.co/rsGOOkBNjA\"\n"
          ]
        }
      ]
    },
    {
      "cell_type": "markdown",
      "source": [
        "Menyimpan hasil crawling (sederhana ke Text file berformat json)"
      ],
      "metadata": {
        "id": "JXhJ71rTRlWb"
      }
    },
    {
      "cell_type": "code",
      "source": [
        "import json\n",
        "def saveTweets(tweets, file='Tweets.json'): #in Json Format\n",
        "    with open(file, 'w') as f:\n",
        "        for t in tweets:\n",
        "            try:\n",
        "                f.write(json.dumps(t)+'\\n')\n",
        "            except:\n",
        "                pass"
      ],
      "metadata": {
        "id": "j1ZaAoXJRqIB"
      },
      "execution_count": null,
      "outputs": []
    },
    {
      "cell_type": "code",
      "source": [
        "# Menyimpan hasil crawling twitter\n",
        "fileName = 'Tweets_Mie_Gacoan.json'\n",
        "saveTweets(tweet, file=fileName)\n",
        "print('Saved to '+fileName)"
      ],
      "metadata": {
        "colab": {
          "base_uri": "https://localhost:8080/"
        },
        "id": "sK9MfIzZR7NA",
        "outputId": "31e1cd51-b3cb-4202-ef3e-717ed0428ede"
      },
      "execution_count": null,
      "outputs": [
        {
          "output_type": "stream",
          "name": "stdout",
          "text": [
            "Saved to Tweets_Mie_Gacoan.json\n"
          ]
        }
      ]
    },
    {
      "cell_type": "markdown",
      "source": [
        "Reload From Json File"
      ],
      "metadata": {
        "id": "hnAXzEB_SPzn"
      }
    },
    {
      "cell_type": "code",
      "source": [
        "def loadTweets(file='Tweets_Mie_Gacoan.json'):\n",
        "    f=open(file,encoding='utf-8', errors ='ignore', mode='r')\n",
        "    T=f.readlines();f.close()\n",
        "    for i,t in enumerate(T):\n",
        "        T[i] = json.loads(t.strip())\n",
        "    return T"
      ],
      "metadata": {
        "id": "091qEDR7SYnA"
      },
      "execution_count": null,
      "outputs": []
    },
    {
      "cell_type": "code",
      "source": [
        "# Me-load kembali jika (misal) analisa ingin dilakukan di lain waktu\n",
        "# Sengaja nama variabelnya saya bedakan (T2)\n",
        "T2 = loadTweets(file=fileName)\n",
        "print('tweet pertama oleh \"{}\" : \"{}\"'.format(T2[0]['user']['screen_name'],T2[0]['full_text']))"
      ],
      "metadata": {
        "colab": {
          "base_uri": "https://localhost:8080/"
        },
        "id": "2_JUlfDTSjwu",
        "outputId": "13fcef86-6b25-4409-ab23-bb5ea30ec647"
      },
      "execution_count": null,
      "outputs": [
        {
          "output_type": "stream",
          "name": "stdout",
          "text": [
            "tweet pertama oleh \"idntimes\" : \"Malas antri? Langsung buat aja di rumah https://t.co/SCTC0m7IrM\"\n"
          ]
        }
      ]
    },
    {
      "cell_type": "code",
      "source": [
        "# Contoh mengambil hanya data tweet\n",
        "D = [t['full_text'] for t in T2]\n",
        "D[:5] # 5 tweet pertama"
      ],
      "metadata": {
        "colab": {
          "base_uri": "https://localhost:8080/"
        },
        "id": "PhyAjqSsSoiv",
        "outputId": "4764fbc3-f337-446c-9dbd-8404d7ce7e53"
      },
      "execution_count": null,
      "outputs": [
        {
          "output_type": "execute_result",
          "data": {
            "text/plain": [
              "['Malas antri? Langsung buat aja di rumah https://t.co/SCTC0m7IrM',\n",
              " 'Kemarin nasgor dan mie goreng sekarang mie gacoan dan rawon🤤\\nAlhamdulillah',\n",
              " '@trstywt @5ecretNumber malah aku yg pengen mie gacoan, soal nya belum pernah ngerasain😌',\n",
              " 'kalo stress obatnya apa?\\nyak betul mie gacoan 🍌',\n",
              " 'rodok curiga lek tbtb ngajak ke tempat yang haruse gak doi banget gini, beberapa kali mau ke gacoan mesti mek di puterno tok alasan \"makanan mie ae ramene nggilani, makan laine ae\" dan berujung makan ramen 😭 https://t.co/lh9MIld17F']"
            ]
          },
          "metadata": {},
          "execution_count": 17
        }
      ]
    },
    {
      "cell_type": "code",
      "source": [
        "# Mari kita coba #1\n",
        "topic = 'from:mie_gacoan'\n",
        "T = api.search_tweets(q=topic, lang='id', tweet_mode = 'extended')\n",
        "tweet = [t._json for t in T]\n",
        "isiTweet = [t['full_text'] for t in tweet]\n",
        "isiTweet"
      ],
      "metadata": {
        "colab": {
          "base_uri": "https://localhost:8080/"
        },
        "id": "FQBlh3VwUGGI",
        "outputId": "6ec604b3-24c2-447b-9b3d-6f3a20b3294e"
      },
      "execution_count": null,
      "outputs": [
        {
          "output_type": "execute_result",
          "data": {
            "text/plain": [
              "['Isi survey bisa makan MIE GACOAN GRATIS!? 😆\\nPeriode survey 10 - 30 juni 2022 &amp; dapatkan 5 voucher utk yg beruntung ( voucher @/25K ) \\n\\nCaranya?\\n- Klik link di bio mimin\\n- Pilih SURVEY PELAYANAN\\n- Isi nama &amp; no hp kalian dg benar\\n- Isi setiap pertanyaan\\n\\nGampang banget bukan? 😉 https://t.co/eGO6xDt6fU',\n",
              " '@cirengsotong Wah terima kasih banyak udah order Mie Gacoan kak 😆\\nSelamat menikmati, kita tunggu orderannya lagi ya 😉',\n",
              " '@resamaulidya Hai kak, doain ya semoga Mie Gacoan bisa segera hadir di Sukabumi 😉',\n",
              " '@beyinmra Sini, mimin tungguin 😉',\n",
              " '@Fikafatchu_r Seneng banget udah mampir ke Mie Gacoan 😆\\nTerima kasih kak dan selamat menikmati. Kita tunggu kedatangannya lagi ya 😉',\n",
              " '@sadturrnus_ Wah terima kasih udah mampir ke Mie Gacoan kak. Kita tunggu kedatangannya lagi ya 😉',\n",
              " '@sashitsmi Hi kak, Mie Gacoan Madiun is located on Jl. Kapten Saputra No.37, Kejuron, Kec. Taman, Kota Madiun, East Java. We will wait for you 😉',\n",
              " '@taku_mle Hai kak, doain ya semoga Mie Gacoan bisa hadir di kota kakak 😉',\n",
              " '@maugantengplis Mimin tunggu ya kak 😉',\n",
              " '@ackervwoman Hai kak, bisa pesan lewat aplikasi online ya,\\natau juga bisa Me Time di Mie Gacoan 😉',\n",
              " '@ackervwoman Yuk sini, mimin tungguin 😉',\n",
              " '@Rsmlna Yuk, Mie Gacoan masih buka hari ini 😉',\n",
              " '@SmgMenfess2 Hai kak, bisa dine in ya. Namun untuk keputusan ditempat dine in atau tidak tetap berada di manajemen resto dengan mempertimbangkan kondisi resto maupun orderan yang masuk baik online dan offline 🙏',\n",
              " '@twitnyapimma Sangat layak kak\\nMimin tunggu ya kedatangannya 😉 https://t.co/Y1rsxF5N0E',\n",
              " '@rillakuman Mimin tunggu ya 😉\\nhttps://t.co/umjAfVQ99x']"
            ]
          },
          "metadata": {},
          "execution_count": 18
        }
      ]
    },
    {
      "cell_type": "markdown",
      "source": [
        "Convert JSON to CSV"
      ],
      "metadata": {
        "id": "OjwNOUxDbdow"
      }
    },
    {
      "cell_type": "code",
      "source": [
        "import pandas as pd\n",
        "df = pd.read_json ('Tweets_Mie_Gacoan.json', lines=True)\n",
        "df.to_csv ('Tweets_Mie_Gacoan.csv', index = None)"
      ],
      "metadata": {
        "id": "i30teyuNapyn"
      },
      "execution_count": null,
      "outputs": []
    },
    {
      "cell_type": "code",
      "source": [
        "# Import libraries\n",
        "import pandas as pd\n",
        "import numpy as np\n",
        "import seaborn as sns\n",
        "import matplotlib.pyplot as plt\n",
        "from sklearn.feature_extraction.text import CountVectorizer\n",
        "import nltk\n",
        "import string\n",
        "import re"
      ],
      "metadata": {
        "id": "SC-B_tfGbrTT"
      },
      "execution_count": null,
      "outputs": []
    },
    {
      "cell_type": "code",
      "source": [
        "# Load dataset\n",
        "def load_data():\n",
        "    data = pd.read_csv('Tweets_Mie_Gacoan.csv')\n",
        "    return data\n",
        "\n",
        "tweet_df = load_data()\n",
        "tweet_df.columns"
      ],
      "metadata": {
        "colab": {
          "base_uri": "https://localhost:8080/"
        },
        "id": "QiS7x3VebuNA",
        "outputId": "e142e8f0-f03f-4d6d-85d4-71b43121e2eb"
      },
      "execution_count": null,
      "outputs": [
        {
          "output_type": "execute_result",
          "data": {
            "text/plain": [
              "Index(['id_str', 'full_text', 'Label'], dtype='object')"
            ]
          },
          "metadata": {},
          "execution_count": 11
        }
      ]
    },
    {
      "cell_type": "code",
      "source": [
        "tweet_mie_gacoan = tweet_df[['id_str', 'full_text']]"
      ],
      "metadata": {
        "id": "mjjq9JqrcJb8"
      },
      "execution_count": null,
      "outputs": []
    },
    {
      "cell_type": "code",
      "source": [
        "tweet_mie_gacoan.to_excel('tweet_mie_gacoan.xlsx',encoding='utf8', index=False)"
      ],
      "metadata": {
        "id": "Bj6QWnwd49mE"
      },
      "execution_count": null,
      "outputs": []
    },
    {
      "cell_type": "code",
      "source": [
        "tweet_mie_gacoan.info()"
      ],
      "metadata": {
        "colab": {
          "base_uri": "https://localhost:8080/"
        },
        "id": "cogjOKGlgjpT",
        "outputId": "0d07628c-488b-4cf2-9e0c-b644d2c3742c"
      },
      "execution_count": null,
      "outputs": [
        {
          "output_type": "stream",
          "name": "stdout",
          "text": [
            "<class 'pandas.core.frame.DataFrame'>\n",
            "RangeIndex: 1000 entries, 0 to 999\n",
            "Data columns (total 3 columns):\n",
            " #   Column     Non-Null Count  Dtype \n",
            "---  ------     --------------  ----- \n",
            " 0   id_str     1000 non-null   int64 \n",
            " 1   full_text  1000 non-null   object\n",
            " 2   Label      1000 non-null   int64 \n",
            "dtypes: int64(2), object(1)\n",
            "memory usage: 23.6+ KB\n"
          ]
        }
      ]
    },
    {
      "cell_type": "markdown",
      "source": [
        "#Sentiment"
      ],
      "metadata": {
        "id": "79HcLiRPRbGP"
      }
    },
    {
      "cell_type": "code",
      "source": [
        "import pandas as pd\n",
        "import numpy as np"
      ],
      "metadata": {
        "id": "SSSSAkG0HP2G"
      },
      "execution_count": null,
      "outputs": []
    },
    {
      "cell_type": "code",
      "source": [
        "# Load dataset\n",
        "def load_data():\n",
        "    data = pd.read_excel('tweet_mie_gacoan.xlsx')\n",
        "    return data\n",
        "\n",
        "tweet_sentiment_df = load_data()"
      ],
      "metadata": {
        "id": "-u0s_MzFSGW0"
      },
      "execution_count": null,
      "outputs": []
    },
    {
      "cell_type": "code",
      "source": [
        "# dependent variable, misal 1=positif, -1=negatif\n",
        "labels = tweet_sentiment_df['label']\n",
        "dic = {1:'positif', -1:'negatif'}\n",
        "print([dic[c] for c in labels])"
      ],
      "metadata": {
        "colab": {
          "base_uri": "https://localhost:8080/"
        },
        "id": "3g3X_xs5RkRa",
        "outputId": "cd547585-18c8-4b8a-9375-49c3ee3a0d4b"
      },
      "execution_count": null,
      "outputs": [
        {
          "output_type": "stream",
          "name": "stdout",
          "text": [
            "['negatif', 'positif', 'positif', 'positif', 'positif', 'positif', 'positif', 'positif', 'positif', 'positif', 'negatif', 'positif', 'negatif', 'positif', 'negatif', 'negatif', 'positif', 'positif', 'positif', 'negatif', 'positif', 'positif', 'positif', 'positif', 'positif', 'positif', 'negatif', 'positif', 'positif', 'positif', 'positif', 'positif', 'positif', 'positif', 'negatif', 'positif', 'positif', 'positif', 'positif', 'positif', 'positif', 'positif', 'positif', 'negatif', 'positif', 'positif', 'positif', 'negatif', 'positif', 'positif', 'positif', 'positif', 'positif', 'positif', 'positif', 'positif', 'positif', 'positif', 'positif', 'negatif', 'negatif', 'positif', 'positif', 'positif', 'positif', 'positif', 'positif', 'positif', 'positif', 'positif', 'positif', 'positif', 'positif', 'positif', 'positif', 'negatif', 'positif', 'positif', 'negatif', 'negatif', 'positif', 'positif', 'positif', 'positif', 'positif', 'positif', 'positif', 'positif', 'positif', 'positif', 'negatif', 'positif', 'positif', 'positif', 'positif', 'positif', 'positif', 'positif', 'positif', 'positif', 'positif', 'positif', 'positif', 'negatif', 'positif', 'positif', 'positif', 'negatif', 'negatif', 'positif', 'positif', 'negatif', 'positif', 'positif', 'negatif', 'positif', 'positif', 'positif', 'positif', 'positif', 'positif', 'positif', 'positif', 'positif', 'positif', 'positif', 'positif', 'positif', 'negatif', 'positif', 'negatif', 'positif', 'negatif', 'positif', 'negatif', 'positif', 'negatif', 'positif', 'positif', 'positif', 'positif', 'positif', 'positif', 'positif', 'negatif', 'positif', 'positif', 'positif', 'negatif', 'positif', 'positif', 'positif', 'positif', 'positif', 'positif', 'positif', 'positif', 'positif', 'positif', 'negatif', 'positif', 'positif', 'positif', 'positif', 'positif', 'positif', 'positif', 'positif', 'positif', 'positif', 'positif', 'negatif', 'negatif', 'positif', 'negatif', 'positif', 'positif', 'positif', 'positif', 'positif', 'positif', 'positif', 'positif', 'positif', 'positif', 'positif', 'positif', 'positif', 'positif', 'positif', 'positif', 'positif', 'positif', 'positif', 'positif', 'positif', 'positif', 'positif', 'positif', 'positif', 'positif', 'positif', 'positif', 'negatif', 'positif', 'positif', 'positif', 'positif', 'positif', 'positif', 'positif', 'positif', 'positif', 'positif', 'positif', 'negatif', 'positif', 'negatif', 'negatif', 'positif', 'positif', 'positif', 'positif', 'positif', 'positif', 'positif', 'positif', 'negatif', 'positif', 'positif', 'positif', 'positif', 'positif', 'positif', 'positif', 'positif', 'positif', 'positif', 'positif', 'positif', 'positif', 'positif', 'positif', 'positif', 'positif', 'positif', 'positif', 'positif', 'positif', 'negatif', 'positif', 'positif', 'positif', 'positif', 'positif', 'positif', 'positif', 'positif', 'positif', 'positif', 'negatif', 'negatif', 'negatif', 'positif', 'negatif', 'positif', 'negatif', 'negatif', 'positif', 'positif', 'positif', 'positif', 'positif', 'positif', 'negatif', 'positif', 'negatif', 'positif', 'positif', 'positif', 'positif', 'positif', 'negatif', 'positif', 'positif', 'negatif', 'negatif', 'positif', 'negatif', 'positif', 'positif', 'positif', 'positif', 'positif', 'positif', 'positif', 'positif', 'positif', 'positif', 'negatif', 'positif', 'negatif', 'positif', 'negatif', 'positif', 'positif', 'negatif', 'positif', 'negatif', 'positif', 'positif', 'negatif', 'positif', 'positif', 'positif', 'negatif', 'positif', 'positif', 'positif', 'positif', 'positif', 'negatif', 'positif', 'positif', 'positif', 'positif', 'positif', 'positif', 'positif', 'negatif', 'negatif', 'positif', 'negatif', 'negatif', 'positif', 'negatif', 'positif', 'positif', 'positif', 'negatif', 'positif', 'positif', 'positif', 'positif', 'positif', 'positif', 'positif', 'positif', 'positif', 'positif', 'positif', 'positif', 'positif', 'negatif', 'negatif', 'positif', 'positif', 'positif', 'negatif', 'negatif', 'positif', 'positif', 'negatif', 'positif', 'positif', 'positif', 'positif', 'positif', 'positif', 'positif', 'positif', 'positif', 'positif', 'positif', 'positif', 'positif', 'positif', 'positif', 'negatif', 'negatif', 'positif', 'positif', 'positif', 'positif', 'positif', 'positif', 'negatif', 'positif', 'positif', 'positif', 'positif', 'negatif', 'positif', 'positif', 'positif', 'negatif', 'negatif', 'positif', 'positif', 'negatif', 'positif', 'negatif', 'positif', 'positif', 'positif', 'positif', 'positif', 'positif', 'negatif', 'positif', 'negatif', 'negatif', 'positif', 'positif', 'positif', 'positif', 'positif', 'positif', 'negatif', 'positif', 'positif', 'positif', 'positif', 'positif', 'positif', 'positif', 'positif', 'negatif', 'positif', 'negatif', 'negatif', 'positif', 'positif', 'positif', 'positif', 'positif', 'positif', 'negatif', 'negatif', 'negatif', 'positif', 'negatif', 'negatif', 'negatif', 'positif', 'negatif', 'negatif', 'positif', 'positif', 'negatif', 'positif', 'positif', 'positif', 'positif', 'positif', 'positif', 'positif', 'positif', 'positif', 'positif', 'positif', 'positif', 'positif', 'negatif', 'positif', 'negatif', 'positif', 'positif', 'positif', 'positif', 'positif', 'positif', 'negatif', 'positif', 'negatif', 'positif', 'positif', 'positif', 'positif', 'positif', 'negatif', 'positif', 'positif', 'positif', 'positif', 'negatif', 'positif', 'positif', 'positif', 'positif', 'positif', 'negatif', 'positif', 'negatif', 'positif', 'positif', 'positif', 'positif', 'positif', 'negatif', 'positif', 'positif', 'positif', 'positif', 'negatif', 'positif', 'negatif', 'positif', 'positif', 'negatif', 'positif', 'positif', 'negatif', 'positif', 'positif', 'positif', 'positif', 'negatif', 'positif', 'positif', 'negatif', 'positif', 'positif', 'positif', 'positif', 'positif', 'negatif', 'positif', 'positif', 'positif', 'positif', 'positif', 'positif', 'negatif', 'negatif', 'positif', 'positif', 'positif', 'positif', 'negatif', 'negatif', 'negatif', 'negatif', 'positif', 'positif', 'positif', 'negatif', 'negatif', 'positif', 'positif', 'positif', 'positif', 'positif', 'negatif', 'positif', 'positif', 'negatif', 'positif', 'positif', 'positif', 'positif', 'positif', 'positif', 'positif', 'positif', 'positif', 'positif', 'positif', 'negatif', 'positif', 'positif', 'positif', 'positif', 'positif', 'positif', 'positif', 'positif', 'negatif', 'positif', 'positif', 'positif', 'positif', 'positif', 'positif', 'positif', 'positif', 'positif', 'positif', 'positif', 'positif', 'positif', 'positif', 'positif', 'positif', 'positif', 'negatif', 'positif', 'positif', 'positif', 'negatif', 'positif', 'positif', 'positif', 'positif', 'positif', 'positif', 'positif', 'positif', 'positif', 'positif', 'positif', 'positif', 'positif', 'positif', 'positif', 'positif', 'positif', 'positif', 'positif', 'positif', 'positif', 'positif', 'positif', 'positif', 'positif', 'positif', 'positif', 'positif', 'positif', 'positif', 'positif', 'positif', 'positif', 'positif', 'positif', 'positif', 'positif', 'positif', 'positif', 'positif', 'positif', 'positif', 'positif', 'positif', 'positif', 'positif', 'negatif', 'negatif', 'positif', 'negatif', 'positif', 'positif', 'positif', 'positif', 'positif', 'positif', 'positif', 'positif', 'positif', 'positif', 'positif', 'positif', 'positif', 'positif', 'positif', 'positif', 'positif', 'positif', 'positif', 'positif', 'positif', 'positif', 'positif', 'positif', 'positif', 'positif', 'positif', 'positif', 'positif', 'positif', 'positif', 'positif', 'positif', 'positif', 'positif', 'positif', 'negatif', 'positif', 'positif', 'positif', 'negatif', 'positif', 'positif', 'positif', 'positif', 'positif', 'positif', 'positif', 'positif', 'positif', 'positif', 'positif', 'positif', 'negatif', 'positif', 'positif', 'positif', 'positif', 'positif', 'positif', 'positif', 'positif', 'negatif', 'positif', 'positif', 'negatif', 'positif', 'positif', 'positif', 'positif', 'positif', 'positif', 'positif', 'positif', 'positif', 'positif', 'positif', 'positif', 'positif', 'positif', 'positif', 'positif', 'positif', 'positif', 'negatif', 'positif', 'positif', 'positif', 'positif', 'positif', 'positif', 'positif', 'positif', 'positif', 'positif', 'positif', 'positif', 'positif', 'positif', 'negatif', 'negatif', 'positif', 'negatif', 'positif', 'positif', 'negatif', 'positif', 'positif', 'negatif', 'positif', 'positif', 'positif', 'positif', 'positif', 'positif', 'positif', 'positif', 'positif', 'negatif', 'negatif', 'negatif', 'positif', 'positif', 'positif', 'positif', 'negatif', 'positif', 'positif', 'positif', 'positif', 'positif', 'negatif', 'positif', 'negatif', 'positif', 'positif', 'positif', 'negatif', 'positif', 'negatif', 'positif', 'positif', 'negatif', 'positif', 'positif', 'positif', 'positif', 'positif', 'positif', 'positif', 'positif', 'positif', 'negatif', 'positif', 'positif', 'positif', 'positif', 'positif', 'positif', 'positif', 'positif', 'positif', 'positif', 'positif', 'positif', 'positif', 'positif', 'positif', 'positif', 'positif', 'positif', 'positif', 'positif', 'positif', 'negatif', 'negatif', 'positif', 'positif', 'positif', 'positif', 'negatif', 'positif', 'positif', 'positif', 'negatif', 'positif', 'positif', 'positif', 'positif', 'positif', 'negatif', 'positif', 'negatif', 'negatif', 'positif', 'positif', 'positif', 'positif', 'positif', 'positif', 'positif', 'negatif', 'positif', 'positif', 'positif', 'positif', 'positif', 'positif', 'positif', 'positif', 'positif', 'negatif', 'positif', 'positif', 'positif', 'positif', 'positif', 'positif', 'positif', 'positif', 'positif', 'positif', 'positif', 'positif', 'positif', 'positif', 'positif', 'negatif', 'positif', 'negatif', 'positif', 'positif', 'positif', 'positif', 'positif', 'positif', 'positif', 'positif', 'positif', 'negatif', 'positif', 'negatif', 'positif', 'negatif', 'positif', 'positif', 'positif', 'positif', 'negatif', 'positif', 'positif', 'negatif', 'negatif', 'positif', 'positif', 'positif', 'positif', 'positif', 'positif', 'positif', 'positif', 'negatif', 'positif', 'positif', 'negatif', 'positif', 'positif', 'negatif', 'positif', 'positif', 'negatif', 'positif', 'positif', 'positif', 'negatif', 'positif', 'positif', 'positif', 'negatif', 'positif', 'positif', 'positif', 'negatif', 'positif', 'positif', 'positif', 'positif', 'positif', 'positif', 'positif', 'positif', 'positif', 'negatif', 'positif', 'positif', 'positif', 'positif', 'positif', 'positif', 'positif', 'positif', 'positif', 'negatif', 'negatif', 'positif', 'positif', 'positif', 'positif', 'positif', 'positif', 'positif', 'negatif', 'positif', 'positif', 'positif', 'negatif', 'negatif', 'positif', 'positif', 'positif', 'positif', 'positif', 'positif', 'positif', 'positif', 'positif', 'positif', 'positif', 'positif', 'positif', 'positif', 'positif', 'positif', 'positif', 'positif', 'positif', 'positif', 'positif', 'positif', 'positif', 'positif', 'negatif', 'positif', 'positif', 'positif', 'negatif', 'positif', 'positif', 'positif', 'positif']\n"
          ]
        }
      ]
    },
    {
      "cell_type": "markdown",
      "source": [
        "#remove User"
      ],
      "metadata": {
        "id": "J2eRSBeeVwG0"
      }
    },
    {
      "cell_type": "code",
      "source": [
        "#=========================================================================#\n",
        "#remove user\n",
        "def remove_pattern(input_txt, pattern):\n",
        "    r = re.findall(pattern, input_txt)\n",
        "    for i in r:\n",
        "        input_txt = re.sub(i, '', input_txt)\n",
        "    return input_txt\n",
        "tweet_sentiment_df['remove_user'] = np.vectorize(remove_pattern)(tweet_sentiment_df['full_text'], \"@[\\w]*\")"
      ],
      "metadata": {
        "id": "er_du1Xkes_b"
      },
      "execution_count": null,
      "outputs": []
    },
    {
      "cell_type": "code",
      "source": [
        "#=========================================================================#\n",
        "def remove(tweet):\n",
        "    #remove angka\n",
        "    tweet = re.sub('[0-9]+', '', tweet)\n",
        "\n",
        "    # remove stock market tickers like $GE\n",
        "    tweet = re.sub(r'\\$\\w*', '', tweet)\n",
        "\n",
        "    # remove old style retweet text \"RT\"\n",
        "    tweet = re.sub(r'^RT[\\s]+', '', tweet)\n",
        "\n",
        "    # remove hashtags\n",
        "    # only removing the hash # sign from the word\n",
        "    tweet = re.sub(r'#', '', tweet)\n",
        "    return tweet\n",
        "tweet_sentiment_df['remove_http'] = tweet_sentiment_df['remove_user'].apply(lambda x: remove(x))\n",
        "tweet_sentiment_df.sort_values(\"remove_http\", inplace = True)\n",
        "tweet_sentiment_df.drop_duplicates(subset =\"remove_http\", keep = 'first', inplace = True)"
      ],
      "metadata": {
        "id": "3Vj8Bqxke0xq"
      },
      "execution_count": null,
      "outputs": []
    },
    {
      "cell_type": "code",
      "source": [
        "#=========================================================================#\n",
        " #import stopword\n",
        "from nltk.corpus import stopwords\n",
        "stopwords_indonesia = stopwords.words('indonesian')\n",
        "\n",
        "#import sastrawi\n",
        "from Sastrawi.Stemmer.StemmerFactory import StemmerFactory\n",
        "factory = StemmerFactory()\n",
        "stemmer = factory.create_stemmer()\n",
        "\n",
        "#tokenize\n",
        "from nltk.tokenize import TweetTokenizer\n",
        "\n",
        "# Happy Emoticons\n",
        "emoticons_happy = set([\n",
        "    ':-)', ':)', ';)', ':o)', ':]', ':3', ':c)', ':>', '=]', '8)', '=)', ':}',\n",
        "    ':^)', ':-D', ':D', '8-D', '8D', 'x-D', 'xD', 'X-D', 'XD', '=-D', '=D',\n",
        "    '=-3', '=3', ':-))', \":'-)\", \":')\", ':*', ':^*', '>:P', ':-P', ':P', 'X-P',\n",
        "    'x-p', 'xp', 'XP', ':-p', ':p', '=p', ':-b', ':b', '>:)', '>;)', '>:-)',\n",
        "    '<3'\n",
        "    ])\n",
        "\n",
        "# Sad Emoticons\n",
        "emoticons_sad = set([\n",
        "    ':L', ':-/', '>:/', ':S', '>:[', ':@', ':-(', ':[', ':-||', '=L', ':<',\n",
        "    ':-[', ':-<', '=\\\\', '=/', '>:(', ':(', '>.<', \":'-(\", \":'(\", ':\\\\', ':-c',\n",
        "    ':c', ':{', '>:\\\\', ';('\n",
        "    ])\n",
        "\n",
        "# all emoticons (happy + sad)\n",
        "emoticons = emoticons_happy.union(emoticons_sad)"
      ],
      "metadata": {
        "id": "ut-WD9_ZfHbc"
      },
      "execution_count": null,
      "outputs": []
    },
    {
      "cell_type": "code",
      "source": [
        "def clean_tweets(tweet):\n",
        "    # remove stock market tickers like $GE\n",
        "    tweet = re.sub(r'\\$\\w*', '', tweet)\n",
        "\n",
        "    # remove old style retweet text \"RT\"\n",
        "    tweet = re.sub(r'^RT[\\s]+', '', tweet)\n",
        "\n",
        "    # remove hyperlinks\n",
        "    tweet = re.sub(r'https?:\\/\\/.*[\\r\\n]*', '', tweet)\n",
        "\n",
        "    # remove hashtags\n",
        "    # only removing the hash # sign from the word\n",
        "    tweet = re.sub(r'#', '', tweet)\n",
        "\n",
        "    #remove coma\n",
        "    tweet = re.sub(r',','',tweet)\n",
        "\n",
        "    #remove angka\n",
        "    tweet = re.sub('[0-9]+', '', tweet)\n",
        "\n",
        "    # tokenize tweets\n",
        "    tokenizer = TweetTokenizer(preserve_case=False, strip_handles=True, reduce_len=True)\n",
        "    tweet_tokens = tokenizer.tokenize(tweet)\n",
        "\n",
        "    tweets_clean = []\n",
        "    for word in tweet_tokens:\n",
        "        if (word not in stopwords_indonesia and # remove stopwords\n",
        "              word not in emoticons and # remove emoticons\n",
        "                word not in string.punctuation): # remove punctuation\n",
        "            #tweets_clean.append(word)\n",
        "            stem_word = stemmer.stem(word) # stemming word\n",
        "            tweets_clean.append(stem_word)\n",
        "\n",
        "    return tweets_clean\n",
        "tweet_sentiment_df['tweet_clean'] = tweet_sentiment_df['remove_http'].apply(lambda x: clean_tweets(x))"
      ],
      "metadata": {
        "id": "pxVXbc3cfLyE"
      },
      "execution_count": null,
      "outputs": []
    },
    {
      "cell_type": "code",
      "source": [
        "#=========================================================================#\n",
        "#remove punct\n",
        "def remove_punct(text):\n",
        "    text  = \" \".join([char for char in text if char not in string.punctuation])\n",
        "    return text\n",
        "tweet_sentiment_df['Tweet'] = tweet_sentiment_df['tweet_clean'].apply(lambda x: remove_punct(x))"
      ],
      "metadata": {
        "id": "1VoTF8qOfVcr"
      },
      "execution_count": null,
      "outputs": []
    },
    {
      "cell_type": "code",
      "source": [
        "tweet_sentiment_df.head()"
      ],
      "metadata": {
        "colab": {
          "base_uri": "https://localhost:8080/",
          "height": 206
        },
        "id": "OvbTNtrikcC7",
        "outputId": "01133e18-38c5-4823-8c15-f3363e27d40a"
      },
      "execution_count": null,
      "outputs": [
        {
          "output_type": "execute_result",
          "data": {
            "text/plain": [
              "                  id_str  label                                    Tweet\n",
              "388  1534357185634790000      1             suka yg iblis sih kecthupnya\n",
              "387  1534357668013520000      1  bener sih manis manis pedes gituh laper\n",
              "946  1533401256764450000      1                     krn blm mkn mie gaco\n",
              "17   1534891926859630000      1                      ajak makan mie gaco\n",
              "403  1534319951036700000      1             mie gaco bersetifikasi halal"
            ],
            "text/html": [
              "\n",
              "  <div id=\"df-71b1e80a-e52d-41e4-9219-f3491e0fb39f\">\n",
              "    <div class=\"colab-df-container\">\n",
              "      <div>\n",
              "<style scoped>\n",
              "    .dataframe tbody tr th:only-of-type {\n",
              "        vertical-align: middle;\n",
              "    }\n",
              "\n",
              "    .dataframe tbody tr th {\n",
              "        vertical-align: top;\n",
              "    }\n",
              "\n",
              "    .dataframe thead th {\n",
              "        text-align: right;\n",
              "    }\n",
              "</style>\n",
              "<table border=\"1\" class=\"dataframe\">\n",
              "  <thead>\n",
              "    <tr style=\"text-align: right;\">\n",
              "      <th></th>\n",
              "      <th>id_str</th>\n",
              "      <th>label</th>\n",
              "      <th>Tweet</th>\n",
              "    </tr>\n",
              "  </thead>\n",
              "  <tbody>\n",
              "    <tr>\n",
              "      <th>388</th>\n",
              "      <td>1534357185634790000</td>\n",
              "      <td>1</td>\n",
              "      <td>suka yg iblis sih kecthupnya</td>\n",
              "    </tr>\n",
              "    <tr>\n",
              "      <th>387</th>\n",
              "      <td>1534357668013520000</td>\n",
              "      <td>1</td>\n",
              "      <td>bener sih manis manis pedes gituh laper</td>\n",
              "    </tr>\n",
              "    <tr>\n",
              "      <th>946</th>\n",
              "      <td>1533401256764450000</td>\n",
              "      <td>1</td>\n",
              "      <td>krn blm mkn mie gaco</td>\n",
              "    </tr>\n",
              "    <tr>\n",
              "      <th>17</th>\n",
              "      <td>1534891926859630000</td>\n",
              "      <td>1</td>\n",
              "      <td>ajak makan mie gaco</td>\n",
              "    </tr>\n",
              "    <tr>\n",
              "      <th>403</th>\n",
              "      <td>1534319951036700000</td>\n",
              "      <td>1</td>\n",
              "      <td>mie gaco bersetifikasi halal</td>\n",
              "    </tr>\n",
              "  </tbody>\n",
              "</table>\n",
              "</div>\n",
              "      <button class=\"colab-df-convert\" onclick=\"convertToInteractive('df-71b1e80a-e52d-41e4-9219-f3491e0fb39f')\"\n",
              "              title=\"Convert this dataframe to an interactive table.\"\n",
              "              style=\"display:none;\">\n",
              "        \n",
              "  <svg xmlns=\"http://www.w3.org/2000/svg\" height=\"24px\"viewBox=\"0 0 24 24\"\n",
              "       width=\"24px\">\n",
              "    <path d=\"M0 0h24v24H0V0z\" fill=\"none\"/>\n",
              "    <path d=\"M18.56 5.44l.94 2.06.94-2.06 2.06-.94-2.06-.94-.94-2.06-.94 2.06-2.06.94zm-11 1L8.5 8.5l.94-2.06 2.06-.94-2.06-.94L8.5 2.5l-.94 2.06-2.06.94zm10 10l.94 2.06.94-2.06 2.06-.94-2.06-.94-.94-2.06-.94 2.06-2.06.94z\"/><path d=\"M17.41 7.96l-1.37-1.37c-.4-.4-.92-.59-1.43-.59-.52 0-1.04.2-1.43.59L10.3 9.45l-7.72 7.72c-.78.78-.78 2.05 0 2.83L4 21.41c.39.39.9.59 1.41.59.51 0 1.02-.2 1.41-.59l7.78-7.78 2.81-2.81c.8-.78.8-2.07 0-2.86zM5.41 20L4 18.59l7.72-7.72 1.47 1.35L5.41 20z\"/>\n",
              "  </svg>\n",
              "      </button>\n",
              "      \n",
              "  <style>\n",
              "    .colab-df-container {\n",
              "      display:flex;\n",
              "      flex-wrap:wrap;\n",
              "      gap: 12px;\n",
              "    }\n",
              "\n",
              "    .colab-df-convert {\n",
              "      background-color: #E8F0FE;\n",
              "      border: none;\n",
              "      border-radius: 50%;\n",
              "      cursor: pointer;\n",
              "      display: none;\n",
              "      fill: #1967D2;\n",
              "      height: 32px;\n",
              "      padding: 0 0 0 0;\n",
              "      width: 32px;\n",
              "    }\n",
              "\n",
              "    .colab-df-convert:hover {\n",
              "      background-color: #E2EBFA;\n",
              "      box-shadow: 0px 1px 2px rgba(60, 64, 67, 0.3), 0px 1px 3px 1px rgba(60, 64, 67, 0.15);\n",
              "      fill: #174EA6;\n",
              "    }\n",
              "\n",
              "    [theme=dark] .colab-df-convert {\n",
              "      background-color: #3B4455;\n",
              "      fill: #D2E3FC;\n",
              "    }\n",
              "\n",
              "    [theme=dark] .colab-df-convert:hover {\n",
              "      background-color: #434B5C;\n",
              "      box-shadow: 0px 1px 3px 1px rgba(0, 0, 0, 0.15);\n",
              "      filter: drop-shadow(0px 1px 2px rgba(0, 0, 0, 0.3));\n",
              "      fill: #FFFFFF;\n",
              "    }\n",
              "  </style>\n",
              "\n",
              "      <script>\n",
              "        const buttonEl =\n",
              "          document.querySelector('#df-71b1e80a-e52d-41e4-9219-f3491e0fb39f button.colab-df-convert');\n",
              "        buttonEl.style.display =\n",
              "          google.colab.kernel.accessAllowed ? 'block' : 'none';\n",
              "\n",
              "        async function convertToInteractive(key) {\n",
              "          const element = document.querySelector('#df-71b1e80a-e52d-41e4-9219-f3491e0fb39f');\n",
              "          const dataTable =\n",
              "            await google.colab.kernel.invokeFunction('convertToInteractive',\n",
              "                                                     [key], {});\n",
              "          if (!dataTable) return;\n",
              "\n",
              "          const docLinkHtml = 'Like what you see? Visit the ' +\n",
              "            '<a target=\"_blank\" href=https://colab.research.google.com/notebooks/data_table.ipynb>data table notebook</a>'\n",
              "            + ' to learn more about interactive tables.';\n",
              "          element.innerHTML = '';\n",
              "          dataTable['output_type'] = 'display_data';\n",
              "          await google.colab.output.renderOutput(dataTable, element);\n",
              "          const docLink = document.createElement('div');\n",
              "          docLink.innerHTML = docLinkHtml;\n",
              "          element.appendChild(docLink);\n",
              "        }\n",
              "      </script>\n",
              "    </div>\n",
              "  </div>\n",
              "  "
            ]
          },
          "metadata": {},
          "execution_count": 25
        }
      ]
    },
    {
      "cell_type": "code",
      "source": [
        "tweet_sentiment_df.drop('tweet_clean', axis=1, inplace=True)\n",
        "tweet_sentiment_df.drop('remove_http', axis=1, inplace=True)\n",
        "tweet_sentiment_df.drop('remove_user', axis=1, inplace=True)\n",
        "tweet_sentiment_df.drop('full_text', axis=1, inplace=True)"
      ],
      "metadata": {
        "id": "HkNuqhLPlUBK"
      },
      "execution_count": null,
      "outputs": []
    },
    {
      "cell_type": "code",
      "source": [
        "#=========================================================================#\n",
        "tweet_sentiment_df.sort_values(\"Tweet\", inplace = True)\n",
        "tweet_sentiment_df.drop_duplicates(subset =\"Tweet\", keep = 'first', inplace = True)\n",
        "tweet_sentiment_df.to_csv('Tweet_After_Cleaning.csv',encoding='utf8', index=False)\n",
        "tweet_sentiment_df.head()"
      ],
      "metadata": {
        "colab": {
          "base_uri": "https://localhost:8080/",
          "height": 206
        },
        "id": "2g_SzhGQbnBY",
        "outputId": "f4f930af-4612-4be9-80b2-d0dfadd96fb1"
      },
      "execution_count": null,
      "outputs": [
        {
          "output_type": "execute_result",
          "data": {
            "text/plain": [
              "                  id_str  label                                   Tweet\n",
              "30   1534876042716130000      1                                        \n",
              "520  1534120910168260000     -1                                       a\n",
              "754  1533720066038330000      1  aaa sama nawaitu dpt udang keju gratis\n",
              "118  1534795729180720000      1                            aamiin admin\n",
              "560  1534068850048010000      1              aamiin kak tunggu bgt loch"
            ],
            "text/html": [
              "\n",
              "  <div id=\"df-77df5696-773e-4d9d-bf1e-de190920b502\">\n",
              "    <div class=\"colab-df-container\">\n",
              "      <div>\n",
              "<style scoped>\n",
              "    .dataframe tbody tr th:only-of-type {\n",
              "        vertical-align: middle;\n",
              "    }\n",
              "\n",
              "    .dataframe tbody tr th {\n",
              "        vertical-align: top;\n",
              "    }\n",
              "\n",
              "    .dataframe thead th {\n",
              "        text-align: right;\n",
              "    }\n",
              "</style>\n",
              "<table border=\"1\" class=\"dataframe\">\n",
              "  <thead>\n",
              "    <tr style=\"text-align: right;\">\n",
              "      <th></th>\n",
              "      <th>id_str</th>\n",
              "      <th>label</th>\n",
              "      <th>Tweet</th>\n",
              "    </tr>\n",
              "  </thead>\n",
              "  <tbody>\n",
              "    <tr>\n",
              "      <th>30</th>\n",
              "      <td>1534876042716130000</td>\n",
              "      <td>1</td>\n",
              "      <td></td>\n",
              "    </tr>\n",
              "    <tr>\n",
              "      <th>520</th>\n",
              "      <td>1534120910168260000</td>\n",
              "      <td>-1</td>\n",
              "      <td>a</td>\n",
              "    </tr>\n",
              "    <tr>\n",
              "      <th>754</th>\n",
              "      <td>1533720066038330000</td>\n",
              "      <td>1</td>\n",
              "      <td>aaa sama nawaitu dpt udang keju gratis</td>\n",
              "    </tr>\n",
              "    <tr>\n",
              "      <th>118</th>\n",
              "      <td>1534795729180720000</td>\n",
              "      <td>1</td>\n",
              "      <td>aamiin admin</td>\n",
              "    </tr>\n",
              "    <tr>\n",
              "      <th>560</th>\n",
              "      <td>1534068850048010000</td>\n",
              "      <td>1</td>\n",
              "      <td>aamiin kak tunggu bgt loch</td>\n",
              "    </tr>\n",
              "  </tbody>\n",
              "</table>\n",
              "</div>\n",
              "      <button class=\"colab-df-convert\" onclick=\"convertToInteractive('df-77df5696-773e-4d9d-bf1e-de190920b502')\"\n",
              "              title=\"Convert this dataframe to an interactive table.\"\n",
              "              style=\"display:none;\">\n",
              "        \n",
              "  <svg xmlns=\"http://www.w3.org/2000/svg\" height=\"24px\"viewBox=\"0 0 24 24\"\n",
              "       width=\"24px\">\n",
              "    <path d=\"M0 0h24v24H0V0z\" fill=\"none\"/>\n",
              "    <path d=\"M18.56 5.44l.94 2.06.94-2.06 2.06-.94-2.06-.94-.94-2.06-.94 2.06-2.06.94zm-11 1L8.5 8.5l.94-2.06 2.06-.94-2.06-.94L8.5 2.5l-.94 2.06-2.06.94zm10 10l.94 2.06.94-2.06 2.06-.94-2.06-.94-.94-2.06-.94 2.06-2.06.94z\"/><path d=\"M17.41 7.96l-1.37-1.37c-.4-.4-.92-.59-1.43-.59-.52 0-1.04.2-1.43.59L10.3 9.45l-7.72 7.72c-.78.78-.78 2.05 0 2.83L4 21.41c.39.39.9.59 1.41.59.51 0 1.02-.2 1.41-.59l7.78-7.78 2.81-2.81c.8-.78.8-2.07 0-2.86zM5.41 20L4 18.59l7.72-7.72 1.47 1.35L5.41 20z\"/>\n",
              "  </svg>\n",
              "      </button>\n",
              "      \n",
              "  <style>\n",
              "    .colab-df-container {\n",
              "      display:flex;\n",
              "      flex-wrap:wrap;\n",
              "      gap: 12px;\n",
              "    }\n",
              "\n",
              "    .colab-df-convert {\n",
              "      background-color: #E8F0FE;\n",
              "      border: none;\n",
              "      border-radius: 50%;\n",
              "      cursor: pointer;\n",
              "      display: none;\n",
              "      fill: #1967D2;\n",
              "      height: 32px;\n",
              "      padding: 0 0 0 0;\n",
              "      width: 32px;\n",
              "    }\n",
              "\n",
              "    .colab-df-convert:hover {\n",
              "      background-color: #E2EBFA;\n",
              "      box-shadow: 0px 1px 2px rgba(60, 64, 67, 0.3), 0px 1px 3px 1px rgba(60, 64, 67, 0.15);\n",
              "      fill: #174EA6;\n",
              "    }\n",
              "\n",
              "    [theme=dark] .colab-df-convert {\n",
              "      background-color: #3B4455;\n",
              "      fill: #D2E3FC;\n",
              "    }\n",
              "\n",
              "    [theme=dark] .colab-df-convert:hover {\n",
              "      background-color: #434B5C;\n",
              "      box-shadow: 0px 1px 3px 1px rgba(0, 0, 0, 0.15);\n",
              "      filter: drop-shadow(0px 1px 2px rgba(0, 0, 0, 0.3));\n",
              "      fill: #FFFFFF;\n",
              "    }\n",
              "  </style>\n",
              "\n",
              "      <script>\n",
              "        const buttonEl =\n",
              "          document.querySelector('#df-77df5696-773e-4d9d-bf1e-de190920b502 button.colab-df-convert');\n",
              "        buttonEl.style.display =\n",
              "          google.colab.kernel.accessAllowed ? 'block' : 'none';\n",
              "\n",
              "        async function convertToInteractive(key) {\n",
              "          const element = document.querySelector('#df-77df5696-773e-4d9d-bf1e-de190920b502');\n",
              "          const dataTable =\n",
              "            await google.colab.kernel.invokeFunction('convertToInteractive',\n",
              "                                                     [key], {});\n",
              "          if (!dataTable) return;\n",
              "\n",
              "          const docLinkHtml = 'Like what you see? Visit the ' +\n",
              "            '<a target=\"_blank\" href=https://colab.research.google.com/notebooks/data_table.ipynb>data table notebook</a>'\n",
              "            + ' to learn more about interactive tables.';\n",
              "          element.innerHTML = '';\n",
              "          dataTable['output_type'] = 'display_data';\n",
              "          await google.colab.output.renderOutput(dataTable, element);\n",
              "          const docLink = document.createElement('div');\n",
              "          docLink.innerHTML = docLinkHtml;\n",
              "          element.appendChild(docLink);\n",
              "        }\n",
              "      </script>\n",
              "    </div>\n",
              "  </div>\n",
              "  "
            ]
          },
          "metadata": {},
          "execution_count": 26
        }
      ]
    },
    {
      "cell_type": "code",
      "source": [
        "#Mengubah Tipe Data \"id_str\" menjadi String\n",
        "tweet_sentiment_df['id_str'] = tweet_sentiment_df['id_str'].astype(str)"
      ],
      "metadata": {
        "id": "oAHziRmKNyUn"
      },
      "execution_count": null,
      "outputs": []
    },
    {
      "cell_type": "code",
      "source": [
        "import copy"
      ],
      "metadata": {
        "id": "IezUPrmkWSWK"
      },
      "execution_count": null,
      "outputs": []
    },
    {
      "cell_type": "code",
      "source": [
        "tweet_sentiment_df.drop(\"id_str\", axis=1, inplace=True)"
      ],
      "metadata": {
        "id": "vQmWXEPKWuYu"
      },
      "execution_count": null,
      "outputs": []
    },
    {
      "cell_type": "code",
      "source": [
        "tweet_sentiment_df.info()"
      ],
      "metadata": {
        "colab": {
          "base_uri": "https://localhost:8080/"
        },
        "id": "7Qb17rP1I9C8",
        "outputId": "378ec5d8-6aab-4f31-b247-4af35c89b006"
      },
      "execution_count": null,
      "outputs": [
        {
          "output_type": "stream",
          "name": "stdout",
          "text": [
            "<class 'pandas.core.frame.DataFrame'>\n",
            "Int64Index: 907 entries, 30 to 133\n",
            "Data columns (total 2 columns):\n",
            " #   Column  Non-Null Count  Dtype \n",
            "---  ------  --------------  ----- \n",
            " 0   label   907 non-null    int64 \n",
            " 1   Tweet   907 non-null    object\n",
            "dtypes: int64(1), object(1)\n",
            "memory usage: 21.3+ KB\n"
          ]
        }
      ]
    },
    {
      "cell_type": "markdown",
      "source": [
        "#Preprocessing"
      ],
      "metadata": {
        "id": "2x_1Z4qPRPh4"
      }
    },
    {
      "cell_type": "code",
      "source": [
        "tweet_sentiment_df['tweet_cleaned'] = ''\n",
        "tweet_sentiment_df.head()"
      ],
      "metadata": {
        "colab": {
          "base_uri": "https://localhost:8080/",
          "height": 206
        },
        "id": "s3YdtBPYRN5o",
        "outputId": "e460c983-9fdf-49d3-8a07-2d6eb1b0399a"
      },
      "execution_count": null,
      "outputs": [
        {
          "output_type": "execute_result",
          "data": {
            "text/plain": [
              "     label                                   Tweet tweet_cleaned\n",
              "30       1                                                      \n",
              "520     -1                                       a              \n",
              "754      1  aaa sama nawaitu dpt udang keju gratis              \n",
              "118      1                            aamiin admin              \n",
              "560      1              aamiin kak tunggu bgt loch              "
            ],
            "text/html": [
              "\n",
              "  <div id=\"df-b5d9750b-b4ee-447b-9530-a0b2c8f0c46d\">\n",
              "    <div class=\"colab-df-container\">\n",
              "      <div>\n",
              "<style scoped>\n",
              "    .dataframe tbody tr th:only-of-type {\n",
              "        vertical-align: middle;\n",
              "    }\n",
              "\n",
              "    .dataframe tbody tr th {\n",
              "        vertical-align: top;\n",
              "    }\n",
              "\n",
              "    .dataframe thead th {\n",
              "        text-align: right;\n",
              "    }\n",
              "</style>\n",
              "<table border=\"1\" class=\"dataframe\">\n",
              "  <thead>\n",
              "    <tr style=\"text-align: right;\">\n",
              "      <th></th>\n",
              "      <th>label</th>\n",
              "      <th>Tweet</th>\n",
              "      <th>tweet_cleaned</th>\n",
              "    </tr>\n",
              "  </thead>\n",
              "  <tbody>\n",
              "    <tr>\n",
              "      <th>30</th>\n",
              "      <td>1</td>\n",
              "      <td></td>\n",
              "      <td></td>\n",
              "    </tr>\n",
              "    <tr>\n",
              "      <th>520</th>\n",
              "      <td>-1</td>\n",
              "      <td>a</td>\n",
              "      <td></td>\n",
              "    </tr>\n",
              "    <tr>\n",
              "      <th>754</th>\n",
              "      <td>1</td>\n",
              "      <td>aaa sama nawaitu dpt udang keju gratis</td>\n",
              "      <td></td>\n",
              "    </tr>\n",
              "    <tr>\n",
              "      <th>118</th>\n",
              "      <td>1</td>\n",
              "      <td>aamiin admin</td>\n",
              "      <td></td>\n",
              "    </tr>\n",
              "    <tr>\n",
              "      <th>560</th>\n",
              "      <td>1</td>\n",
              "      <td>aamiin kak tunggu bgt loch</td>\n",
              "      <td></td>\n",
              "    </tr>\n",
              "  </tbody>\n",
              "</table>\n",
              "</div>\n",
              "      <button class=\"colab-df-convert\" onclick=\"convertToInteractive('df-b5d9750b-b4ee-447b-9530-a0b2c8f0c46d')\"\n",
              "              title=\"Convert this dataframe to an interactive table.\"\n",
              "              style=\"display:none;\">\n",
              "        \n",
              "  <svg xmlns=\"http://www.w3.org/2000/svg\" height=\"24px\"viewBox=\"0 0 24 24\"\n",
              "       width=\"24px\">\n",
              "    <path d=\"M0 0h24v24H0V0z\" fill=\"none\"/>\n",
              "    <path d=\"M18.56 5.44l.94 2.06.94-2.06 2.06-.94-2.06-.94-.94-2.06-.94 2.06-2.06.94zm-11 1L8.5 8.5l.94-2.06 2.06-.94-2.06-.94L8.5 2.5l-.94 2.06-2.06.94zm10 10l.94 2.06.94-2.06 2.06-.94-2.06-.94-.94-2.06-.94 2.06-2.06.94z\"/><path d=\"M17.41 7.96l-1.37-1.37c-.4-.4-.92-.59-1.43-.59-.52 0-1.04.2-1.43.59L10.3 9.45l-7.72 7.72c-.78.78-.78 2.05 0 2.83L4 21.41c.39.39.9.59 1.41.59.51 0 1.02-.2 1.41-.59l7.78-7.78 2.81-2.81c.8-.78.8-2.07 0-2.86zM5.41 20L4 18.59l7.72-7.72 1.47 1.35L5.41 20z\"/>\n",
              "  </svg>\n",
              "      </button>\n",
              "      \n",
              "  <style>\n",
              "    .colab-df-container {\n",
              "      display:flex;\n",
              "      flex-wrap:wrap;\n",
              "      gap: 12px;\n",
              "    }\n",
              "\n",
              "    .colab-df-convert {\n",
              "      background-color: #E8F0FE;\n",
              "      border: none;\n",
              "      border-radius: 50%;\n",
              "      cursor: pointer;\n",
              "      display: none;\n",
              "      fill: #1967D2;\n",
              "      height: 32px;\n",
              "      padding: 0 0 0 0;\n",
              "      width: 32px;\n",
              "    }\n",
              "\n",
              "    .colab-df-convert:hover {\n",
              "      background-color: #E2EBFA;\n",
              "      box-shadow: 0px 1px 2px rgba(60, 64, 67, 0.3), 0px 1px 3px 1px rgba(60, 64, 67, 0.15);\n",
              "      fill: #174EA6;\n",
              "    }\n",
              "\n",
              "    [theme=dark] .colab-df-convert {\n",
              "      background-color: #3B4455;\n",
              "      fill: #D2E3FC;\n",
              "    }\n",
              "\n",
              "    [theme=dark] .colab-df-convert:hover {\n",
              "      background-color: #434B5C;\n",
              "      box-shadow: 0px 1px 3px 1px rgba(0, 0, 0, 0.15);\n",
              "      filter: drop-shadow(0px 1px 2px rgba(0, 0, 0, 0.3));\n",
              "      fill: #FFFFFF;\n",
              "    }\n",
              "  </style>\n",
              "\n",
              "      <script>\n",
              "        const buttonEl =\n",
              "          document.querySelector('#df-b5d9750b-b4ee-447b-9530-a0b2c8f0c46d button.colab-df-convert');\n",
              "        buttonEl.style.display =\n",
              "          google.colab.kernel.accessAllowed ? 'block' : 'none';\n",
              "\n",
              "        async function convertToInteractive(key) {\n",
              "          const element = document.querySelector('#df-b5d9750b-b4ee-447b-9530-a0b2c8f0c46d');\n",
              "          const dataTable =\n",
              "            await google.colab.kernel.invokeFunction('convertToInteractive',\n",
              "                                                     [key], {});\n",
              "          if (!dataTable) return;\n",
              "\n",
              "          const docLinkHtml = 'Like what you see? Visit the ' +\n",
              "            '<a target=\"_blank\" href=https://colab.research.google.com/notebooks/data_table.ipynb>data table notebook</a>'\n",
              "            + ' to learn more about interactive tables.';\n",
              "          element.innerHTML = '';\n",
              "          dataTable['output_type'] = 'display_data';\n",
              "          await google.colab.output.renderOutput(dataTable, element);\n",
              "          const docLink = document.createElement('div');\n",
              "          docLink.innerHTML = docLinkHtml;\n",
              "          element.appendChild(docLink);\n",
              "        }\n",
              "      </script>\n",
              "    </div>\n",
              "  </div>\n",
              "  "
            ]
          },
          "metadata": {},
          "execution_count": 31
        }
      ]
    },
    {
      "cell_type": "code",
      "source": [
        "stopId, lemmaId = tau.LoadStopWords(lang='id')\n",
        "for i, d in tqdm(tweet_sentiment_df.iterrows()):\n",
        "    doc = tau.cleanText(d.Tweet, lemma=lemmaId, stops = None, symbols_remove = True, min_charLen = 2, fixTag= True)\n",
        "    tweet_sentiment_df.at[i, \"tweet_cleaned\"] = doc\n",
        "\n",
        "tweet_sentiment_df.head()"
      ],
      "metadata": {
        "colab": {
          "base_uri": "https://localhost:8080/",
          "height": 223
        },
        "id": "piwun41UX0Y9",
        "outputId": "2fd4f8d9-6fcb-4553-9ad8-60ea9de9b786"
      },
      "execution_count": null,
      "outputs": [
        {
          "output_type": "stream",
          "name": "stderr",
          "text": [
            "907it [04:34,  3.30it/s]\n"
          ]
        },
        {
          "output_type": "execute_result",
          "data": {
            "text/plain": [
              "     label                                   Tweet  \\\n",
              "30       1                                           \n",
              "520     -1                                       a   \n",
              "754      1  aaa sama nawaitu dpt udang keju gratis   \n",
              "118      1                            aamiin admin   \n",
              "560      1              aamiin kak tunggu bgt loch   \n",
              "\n",
              "                             tweet_cleaned  \n",
              "30                                          \n",
              "520                                         \n",
              "754  aa sama nawaitu dpt udang keju gratis  \n",
              "118                           aamiin admin  \n",
              "560             aamiin kak tunggu bgt loch  "
            ],
            "text/html": [
              "\n",
              "  <div id=\"df-1f0cc8f2-f915-4710-8ca4-e62aeb45f197\">\n",
              "    <div class=\"colab-df-container\">\n",
              "      <div>\n",
              "<style scoped>\n",
              "    .dataframe tbody tr th:only-of-type {\n",
              "        vertical-align: middle;\n",
              "    }\n",
              "\n",
              "    .dataframe tbody tr th {\n",
              "        vertical-align: top;\n",
              "    }\n",
              "\n",
              "    .dataframe thead th {\n",
              "        text-align: right;\n",
              "    }\n",
              "</style>\n",
              "<table border=\"1\" class=\"dataframe\">\n",
              "  <thead>\n",
              "    <tr style=\"text-align: right;\">\n",
              "      <th></th>\n",
              "      <th>label</th>\n",
              "      <th>Tweet</th>\n",
              "      <th>tweet_cleaned</th>\n",
              "    </tr>\n",
              "  </thead>\n",
              "  <tbody>\n",
              "    <tr>\n",
              "      <th>30</th>\n",
              "      <td>1</td>\n",
              "      <td></td>\n",
              "      <td></td>\n",
              "    </tr>\n",
              "    <tr>\n",
              "      <th>520</th>\n",
              "      <td>-1</td>\n",
              "      <td>a</td>\n",
              "      <td></td>\n",
              "    </tr>\n",
              "    <tr>\n",
              "      <th>754</th>\n",
              "      <td>1</td>\n",
              "      <td>aaa sama nawaitu dpt udang keju gratis</td>\n",
              "      <td>aa sama nawaitu dpt udang keju gratis</td>\n",
              "    </tr>\n",
              "    <tr>\n",
              "      <th>118</th>\n",
              "      <td>1</td>\n",
              "      <td>aamiin admin</td>\n",
              "      <td>aamiin admin</td>\n",
              "    </tr>\n",
              "    <tr>\n",
              "      <th>560</th>\n",
              "      <td>1</td>\n",
              "      <td>aamiin kak tunggu bgt loch</td>\n",
              "      <td>aamiin kak tunggu bgt loch</td>\n",
              "    </tr>\n",
              "  </tbody>\n",
              "</table>\n",
              "</div>\n",
              "      <button class=\"colab-df-convert\" onclick=\"convertToInteractive('df-1f0cc8f2-f915-4710-8ca4-e62aeb45f197')\"\n",
              "              title=\"Convert this dataframe to an interactive table.\"\n",
              "              style=\"display:none;\">\n",
              "        \n",
              "  <svg xmlns=\"http://www.w3.org/2000/svg\" height=\"24px\"viewBox=\"0 0 24 24\"\n",
              "       width=\"24px\">\n",
              "    <path d=\"M0 0h24v24H0V0z\" fill=\"none\"/>\n",
              "    <path d=\"M18.56 5.44l.94 2.06.94-2.06 2.06-.94-2.06-.94-.94-2.06-.94 2.06-2.06.94zm-11 1L8.5 8.5l.94-2.06 2.06-.94-2.06-.94L8.5 2.5l-.94 2.06-2.06.94zm10 10l.94 2.06.94-2.06 2.06-.94-2.06-.94-.94-2.06-.94 2.06-2.06.94z\"/><path d=\"M17.41 7.96l-1.37-1.37c-.4-.4-.92-.59-1.43-.59-.52 0-1.04.2-1.43.59L10.3 9.45l-7.72 7.72c-.78.78-.78 2.05 0 2.83L4 21.41c.39.39.9.59 1.41.59.51 0 1.02-.2 1.41-.59l7.78-7.78 2.81-2.81c.8-.78.8-2.07 0-2.86zM5.41 20L4 18.59l7.72-7.72 1.47 1.35L5.41 20z\"/>\n",
              "  </svg>\n",
              "      </button>\n",
              "      \n",
              "  <style>\n",
              "    .colab-df-container {\n",
              "      display:flex;\n",
              "      flex-wrap:wrap;\n",
              "      gap: 12px;\n",
              "    }\n",
              "\n",
              "    .colab-df-convert {\n",
              "      background-color: #E8F0FE;\n",
              "      border: none;\n",
              "      border-radius: 50%;\n",
              "      cursor: pointer;\n",
              "      display: none;\n",
              "      fill: #1967D2;\n",
              "      height: 32px;\n",
              "      padding: 0 0 0 0;\n",
              "      width: 32px;\n",
              "    }\n",
              "\n",
              "    .colab-df-convert:hover {\n",
              "      background-color: #E2EBFA;\n",
              "      box-shadow: 0px 1px 2px rgba(60, 64, 67, 0.3), 0px 1px 3px 1px rgba(60, 64, 67, 0.15);\n",
              "      fill: #174EA6;\n",
              "    }\n",
              "\n",
              "    [theme=dark] .colab-df-convert {\n",
              "      background-color: #3B4455;\n",
              "      fill: #D2E3FC;\n",
              "    }\n",
              "\n",
              "    [theme=dark] .colab-df-convert:hover {\n",
              "      background-color: #434B5C;\n",
              "      box-shadow: 0px 1px 3px 1px rgba(0, 0, 0, 0.15);\n",
              "      filter: drop-shadow(0px 1px 2px rgba(0, 0, 0, 0.3));\n",
              "      fill: #FFFFFF;\n",
              "    }\n",
              "  </style>\n",
              "\n",
              "      <script>\n",
              "        const buttonEl =\n",
              "          document.querySelector('#df-1f0cc8f2-f915-4710-8ca4-e62aeb45f197 button.colab-df-convert');\n",
              "        buttonEl.style.display =\n",
              "          google.colab.kernel.accessAllowed ? 'block' : 'none';\n",
              "\n",
              "        async function convertToInteractive(key) {\n",
              "          const element = document.querySelector('#df-1f0cc8f2-f915-4710-8ca4-e62aeb45f197');\n",
              "          const dataTable =\n",
              "            await google.colab.kernel.invokeFunction('convertToInteractive',\n",
              "                                                     [key], {});\n",
              "          if (!dataTable) return;\n",
              "\n",
              "          const docLinkHtml = 'Like what you see? Visit the ' +\n",
              "            '<a target=\"_blank\" href=https://colab.research.google.com/notebooks/data_table.ipynb>data table notebook</a>'\n",
              "            + ' to learn more about interactive tables.';\n",
              "          element.innerHTML = '';\n",
              "          dataTable['output_type'] = 'display_data';\n",
              "          await google.colab.output.renderOutput(dataTable, element);\n",
              "          const docLink = document.createElement('div');\n",
              "          docLink.innerHTML = docLinkHtml;\n",
              "          element.appendChild(docLink);\n",
              "        }\n",
              "      </script>\n",
              "    </div>\n",
              "  </div>\n",
              "  "
            ]
          },
          "metadata": {},
          "execution_count": 32
        }
      ]
    },
    {
      "cell_type": "code",
      "source": [
        "from sklearn.model_selection import train_test_split\n",
        "\n",
        "seed = 99 # Biasakan menggunakan ini\n",
        "testSize = 0.2\n",
        "\n",
        "x_train, x_test, y_train, y_test = train_test_split(tweet_sentiment_df[\"tweet_cleaned\"], tweet_sentiment_df[\"label\"],\n",
        "                                                    test_size=testSize, random_state = seed)\n",
        "print(x_train.shape, x_test.shape)"
      ],
      "metadata": {
        "colab": {
          "base_uri": "https://localhost:8080/"
        },
        "id": "YED4E5CcZIkf",
        "outputId": "52bdb205-b449-4d5a-db32-06e726d02589"
      },
      "execution_count": null,
      "outputs": [
        {
          "output_type": "stream",
          "name": "stdout",
          "text": [
            "(725,) (182,)\n"
          ]
        }
      ]
    },
    {
      "cell_type": "code",
      "source": [
        "from sklearn.feature_extraction.text import TfidfVectorizer\n",
        "\n",
        "vsm = TfidfVectorizer(lowercase=True, smooth_idf= True, sublinear_tf=True,\n",
        "                                   ngram_range=(1, 2), max_df=0.90, min_df=2)\n",
        "\n",
        "x_train = vsm.fit_transform(x_train) # \"Fit_Transform\"\n",
        "x_test = vsm.transform(x_test) # Perhatikan disini hanya \"Transform\"\n",
        "\n",
        "print(x_train.shape, x_test.shape) # Jumlah kolom Sama ==> ini penting"
      ],
      "metadata": {
        "colab": {
          "base_uri": "https://localhost:8080/"
        },
        "id": "RUHT1U8XZuLR",
        "outputId": "aff4e13c-4e76-4f16-92d0-8072a887f499"
      },
      "execution_count": null,
      "outputs": [
        {
          "output_type": "stream",
          "name": "stdout",
          "text": [
            "(725, 1192) (182, 1192)\n"
          ]
        }
      ]
    },
    {
      "cell_type": "code",
      "source": [
        "# dependent variable, misal 1=positif, -1=negatif\n",
        "positive = 0\n",
        "negative = 0\n",
        "labels = tweet_sentiment_df['label']\n",
        "for c in labels:\n",
        "  if c == 1:\n",
        "    positive = positive + 1\n",
        "  else:\n",
        "    negative = negative + 1\n",
        "print(negative)\n",
        "print(positive)"
      ],
      "metadata": {
        "colab": {
          "base_uri": "https://localhost:8080/"
        },
        "id": "FAlxue_VKqoJ",
        "outputId": "a6a9efbe-6314-4b34-f421-6d15942e047f"
      },
      "execution_count": null,
      "outputs": [
        {
          "output_type": "stream",
          "name": "stdout",
          "text": [
            "159\n",
            "748\n"
          ]
        }
      ]
    },
    {
      "cell_type": "code",
      "source": [
        "import matplotlib.pyplot as plt\n",
        "fig = plt.figure()\n",
        "ax = fig.add_axes([0,0,1,1])\n",
        "value = ['Negative', 'Positive']\n",
        "sentiment = [negative, positive]\n",
        "ax.bar(value, sentiment)\n",
        "plt.show()"
      ],
      "metadata": {
        "colab": {
          "base_uri": "https://localhost:8080/",
          "height": 336
        },
        "id": "6cRmjZ6_MF1i",
        "outputId": "5e4536f6-f63a-489c-a1c0-e8d60b5d7f80"
      },
      "execution_count": null,
      "outputs": [
        {
          "output_type": "display_data",
          "data": {
            "text/plain": [
              "<Figure size 432x288 with 1 Axes>"
            ],
            "image/png": "[encoded data removed]"
          },
          "metadata": {
            "needs_background": "light"
          }
        }
      ]
    },
    {
      "cell_type": "code",
      "source": [
        "import matplotlib.pyplot as plt\n",
        "import numpy as np"
      ],
      "metadata": {
        "id": "g4PjDR5fORP9"
      },
      "execution_count": null,
      "outputs": []
    },
    {
      "cell_type": "markdown",
      "source": [
        "#Document Classification ~ Sentiment Analysis"
      ],
      "metadata": {
        "id": "tJ2JlE2aZ0TH"
      }
    },
    {
      "cell_type": "code",
      "source": [
        "from sklearn import neighbors\n",
        "from sklearn.metrics import accuracy_score\n",
        "from sklearn.metrics import confusion_matrix, classification_report\n",
        "\n",
        "model = neighbors.KNeighborsClassifier()\n",
        "kNN = model.fit(x_train, y_train)\n",
        "y_kNN = kNN.predict(x_test)\n",
        "\n",
        "print('Akurasi = ', accuracy_score(y_test, y_kNN))\n",
        "print(confusion_matrix(y_test, y_kNN))\n",
        "print(classification_report(y_test, y_kNN))"
      ],
      "metadata": {
        "colab": {
          "base_uri": "https://localhost:8080/"
        },
        "id": "sMtRnCqRZ62f",
        "outputId": "405690f1-4ee3-4da2-b5a8-3f76108ad386"
      },
      "execution_count": null,
      "outputs": [
        {
          "output_type": "stream",
          "name": "stdout",
          "text": [
            "Akurasi =  0.8406593406593407\n",
            "[[  3  28]\n",
            " [  1 150]]\n",
            "              precision    recall  f1-score   support\n",
            "\n",
            "          -1       0.75      0.10      0.17        31\n",
            "           1       0.84      0.99      0.91       151\n",
            "\n",
            "    accuracy                           0.84       182\n",
            "   macro avg       0.80      0.55      0.54       182\n",
            "weighted avg       0.83      0.84      0.79       182\n",
            "\n"
          ]
        }
      ]
    },
    {
      "cell_type": "code",
      "source": [
        "from sklearn import svm\n",
        "\n",
        "dSVM = svm.SVC()\n",
        "dSVM.fit(x_train, y_train)\n",
        "y_SVM = dSVM.predict(x_test)\n",
        "print('Akurasi = ', accuracy_score(y_test, y_SVM))\n",
        "print(confusion_matrix(y_test, y_SVM))\n",
        "print(classification_report(y_test, y_SVM))"
      ],
      "metadata": {
        "colab": {
          "base_uri": "https://localhost:8080/"
        },
        "id": "BxCCsf8LZ_Uo",
        "outputId": "c828bf75-eb1b-44f9-9688-9a7671301459"
      },
      "execution_count": null,
      "outputs": [
        {
          "output_type": "stream",
          "name": "stdout",
          "text": [
            "Akurasi =  0.8241758241758241\n",
            "[[  0  31]\n",
            " [  1 150]]\n",
            "              precision    recall  f1-score   support\n",
            "\n",
            "          -1       0.00      0.00      0.00        31\n",
            "           1       0.83      0.99      0.90       151\n",
            "\n",
            "    accuracy                           0.82       182\n",
            "   macro avg       0.41      0.50      0.45       182\n",
            "weighted avg       0.69      0.82      0.75       182\n",
            "\n"
          ]
        }
      ]
    },
    {
      "cell_type": "code",
      "source": [
        "from sklearn.neural_network import MLPClassifier\n",
        "\n",
        "NN = MLPClassifier()\n",
        "NN.fit(x_train, y_train)\n",
        "y_NN = NN.predict(x_test)\n",
        "\n",
        "print('Akurasi = ', accuracy_score(y_test, y_NN))\n",
        "print(confusion_matrix(y_test, y_NN))\n",
        "print(classification_report(y_test, y_NN))"
      ],
      "metadata": {
        "colab": {
          "base_uri": "https://localhost:8080/"
        },
        "id": "95PsjQWtaCfQ",
        "outputId": "b75687a9-1711-490a-8523-7795727f03fe"
      },
      "execution_count": null,
      "outputs": [
        {
          "output_type": "stream",
          "name": "stdout",
          "text": [
            "Akurasi =  0.8021978021978022\n",
            "[[ 10  21]\n",
            " [ 15 136]]\n",
            "              precision    recall  f1-score   support\n",
            "\n",
            "          -1       0.40      0.32      0.36        31\n",
            "           1       0.87      0.90      0.88       151\n",
            "\n",
            "    accuracy                           0.80       182\n",
            "   macro avg       0.63      0.61      0.62       182\n",
            "weighted avg       0.79      0.80      0.79       182\n",
            "\n"
          ]
        }
      ]
    },
    {
      "cell_type": "markdown",
      "source": [
        "#Optimasi Parameter"
      ],
      "metadata": {
        "id": "7vOBYyNpbCK8"
      }
    },
    {
      "cell_type": "code",
      "source": [
        "from sklearn.model_selection import cross_val_score, RandomizedSearchCV, GridSearchCV\n",
        "from sklearn.pipeline import make_pipeline"
      ],
      "metadata": {
        "id": "5vLqTYSTbEjQ"
      },
      "execution_count": null,
      "outputs": []
    },
    {
      "cell_type": "code",
      "source": [
        "# Optimal parameter k-NN dengan GRIDSEARCH\n",
        "# https://scikit-learn.org/stable/modules/generated/sklearn.neighbors.KNeighborsClassifier.html\n",
        "\n",
        "x_train, x_test, y_train, y_test = train_test_split(tweet_sentiment_df_example[\"tweet_cleaned\"], tweet_sentiment_df_example[\"label\"],\n",
        "                                                    test_size=testSize, random_state = seed)\n",
        "# Perhatikan kita pakai data awal : Text karena kita akan optimalkan preprocessing juga\n",
        "\n",
        "kCV = 5\n",
        "metric = 'accuracy'\n",
        "params = {}\n",
        "params['tfidfvectorizer__min_df'] = [5, 10, 15]\n",
        "params['tfidfvectorizer__max_df'] = [0.5, 0.75, 0.95]\n",
        "params['tfidfvectorizer__smooth_idf'] = [True] # [True, False]\n",
        "params['tfidfvectorizer__sublinear_tf'] = [True] # [True, False]\n",
        "params['tfidfvectorizer__ngram_range'] = [(1, 1), (1, 2), (1,3)]\n",
        "params['kneighborsclassifier__n_neighbors'] = [3, 5, 10]\n",
        "params['kneighborsclassifier__weights'] = ('distance', 'uniform')\n",
        "\n",
        "pipe = make_pipeline(TfidfVectorizer(), neighbors.KNeighborsClassifier())\n",
        "gridCV = GridSearchCV(pipe, params, cv=kCV, scoring=metric, verbose=1, n_jobs=-1) # , pre_dispatch='2*n_jobs', pre_dispatch min 2* n_jobs\n",
        "gridCV.fit(x_train, y_train)\n",
        "print(gridCV.best_score_)\n",
        "print(gridCV.best_params_)"
      ],
      "metadata": {
        "colab": {
          "base_uri": "https://localhost:8080/"
        },
        "id": "Mwf9i2w3bHCl",
        "outputId": "bc5976a0-1b09-4ab6-ad51-d41719144caa"
      },
      "execution_count": null,
      "outputs": [
        {
          "output_type": "stream",
          "name": "stdout",
          "text": [
            "Fitting 5 folds for each of 162 candidates, totalling 810 fits\n",
            "0.8262068965517241\n",
            "{'kneighborsclassifier__n_neighbors': 10, 'kneighborsclassifier__weights': 'distance', 'tfidfvectorizer__max_df': 0.95, 'tfidfvectorizer__min_df': 10, 'tfidfvectorizer__ngram_range': (1, 2), 'tfidfvectorizer__smooth_idf': True, 'tfidfvectorizer__sublinear_tf': True}\n"
          ]
        }
      ]
    },
    {
      "cell_type": "code",
      "source": [
        "# Optimal parameter SVM dengan RandomSEARCH\n",
        "# https://scikit-learn.org/stable/modules/generated/sklearn.svm.SVC.html\n",
        "\n",
        "pipeSVM = make_pipeline(TfidfVectorizer(), svm.SVC())\n",
        "print(sorted(pipeSVM.get_params().keys()))"
      ],
      "metadata": {
        "colab": {
          "base_uri": "https://localhost:8080/"
        },
        "id": "sPuTORj3bXsw",
        "outputId": "e769252b-5af7-4c7d-cff9-ded24c5e334e"
      },
      "execution_count": null,
      "outputs": [
        {
          "output_type": "stream",
          "name": "stdout",
          "text": [
            "['memory', 'steps', 'svc', 'svc__C', 'svc__break_ties', 'svc__cache_size', 'svc__class_weight', 'svc__coef0', 'svc__decision_function_shape', 'svc__degree', 'svc__gamma', 'svc__kernel', 'svc__max_iter', 'svc__probability', 'svc__random_state', 'svc__shrinking', 'svc__tol', 'svc__verbose', 'tfidfvectorizer', 'tfidfvectorizer__analyzer', 'tfidfvectorizer__binary', 'tfidfvectorizer__decode_error', 'tfidfvectorizer__dtype', 'tfidfvectorizer__encoding', 'tfidfvectorizer__input', 'tfidfvectorizer__lowercase', 'tfidfvectorizer__max_df', 'tfidfvectorizer__max_features', 'tfidfvectorizer__min_df', 'tfidfvectorizer__ngram_range', 'tfidfvectorizer__norm', 'tfidfvectorizer__preprocessor', 'tfidfvectorizer__smooth_idf', 'tfidfvectorizer__stop_words', 'tfidfvectorizer__strip_accents', 'tfidfvectorizer__sublinear_tf', 'tfidfvectorizer__token_pattern', 'tfidfvectorizer__tokenizer', 'tfidfvectorizer__use_idf', 'tfidfvectorizer__vocabulary', 'verbose']\n"
          ]
        }
      ]
    },
    {
      "cell_type": "code",
      "source": [
        "# Optimal parameter SVM dengan RandomizedSearch\n",
        "\n",
        "paramsSVM = {}\n",
        "paramsSVM['tfidfvectorizer__min_df'] = [5, 10, 30]\n",
        "paramsSVM['tfidfvectorizer__max_df'] = [0.5, 0.75, 0.95]\n",
        "paramsSVM['tfidfvectorizer__smooth_idf'] = [True] # [True, False]\n",
        "paramsSVM['tfidfvectorizer__sublinear_tf'] = [True] # [True, False]\n",
        "paramsSVM['tfidfvectorizer__ngram_range'] = [(1, 1), (1, 2), (1,3)]\n",
        "paramsSVM['svc__C'] = [0.1, 10, 100] #sp.stats.uniform(scale=1)\n",
        "paramsSVM['svc__gamma'] = [1.0, 0.1, 0.001]\n",
        "paramsSVM['svc__kernel'] = ['rbf', 'poly', 'sigmoid', 'linear']\n",
        "paramsSVM['svc__decision_function_shape'] = ['ovo', 'ovr']\n",
        "\n",
        "randsvmCV = RandomizedSearchCV(pipeSVM, paramsSVM, cv=kCV, scoring=metric, verbose=1, n_iter=30, random_state=seed, n_jobs=-1) # , pre_dispatch='2*n_jobs' pre_dispatch min 2* n_jobs\n",
        "randsvmCV.fit(x_train, y_train)\n",
        "print(randsvmCV.best_score_)\n",
        "print(randsvmCV.best_params_)"
      ],
      "metadata": {
        "colab": {
          "base_uri": "https://localhost:8080/"
        },
        "id": "_QsefSBwbcXo",
        "outputId": "94628dd2-ebb2-4d5b-c0b5-e6621886725d"
      },
      "execution_count": null,
      "outputs": [
        {
          "output_type": "stream",
          "name": "stdout",
          "text": [
            "Fitting 5 folds for each of 30 candidates, totalling 150 fits\n",
            "0.8234482758620689\n",
            "{'tfidfvectorizer__sublinear_tf': True, 'tfidfvectorizer__smooth_idf': True, 'tfidfvectorizer__ngram_range': (1, 2), 'tfidfvectorizer__min_df': 30, 'tfidfvectorizer__max_df': 0.75, 'svc__kernel': 'poly', 'svc__gamma': 0.001, 'svc__decision_function_shape': 'ovr', 'svc__C': 0.1}\n"
          ]
        }
      ]
    },
    {
      "cell_type": "code",
      "source": [
        "# Optimal parameter ANN dengan RandomSEARCH\n",
        "# https://scikit-learn.org/stable/modules/generated/sklearn.neural_network.MLPClassifier.html\n",
        "\n",
        "pipeNN = make_pipeline(TfidfVectorizer(), MLPClassifier())\n",
        "print(sorted(pipeNN.get_params().keys()))"
      ],
      "metadata": {
        "colab": {
          "base_uri": "https://localhost:8080/"
        },
        "id": "5VPM94Kdbhsy",
        "outputId": "e54bf242-df69-4c9b-f073-76eef53dea56"
      },
      "execution_count": null,
      "outputs": [
        {
          "output_type": "stream",
          "name": "stdout",
          "text": [
            "['memory', 'mlpclassifier', 'mlpclassifier__activation', 'mlpclassifier__alpha', 'mlpclassifier__batch_size', 'mlpclassifier__beta_1', 'mlpclassifier__beta_2', 'mlpclassifier__early_stopping', 'mlpclassifier__epsilon', 'mlpclassifier__hidden_layer_sizes', 'mlpclassifier__learning_rate', 'mlpclassifier__learning_rate_init', 'mlpclassifier__max_fun', 'mlpclassifier__max_iter', 'mlpclassifier__momentum', 'mlpclassifier__n_iter_no_change', 'mlpclassifier__nesterovs_momentum', 'mlpclassifier__power_t', 'mlpclassifier__random_state', 'mlpclassifier__shuffle', 'mlpclassifier__solver', 'mlpclassifier__tol', 'mlpclassifier__validation_fraction', 'mlpclassifier__verbose', 'mlpclassifier__warm_start', 'steps', 'tfidfvectorizer', 'tfidfvectorizer__analyzer', 'tfidfvectorizer__binary', 'tfidfvectorizer__decode_error', 'tfidfvectorizer__dtype', 'tfidfvectorizer__encoding', 'tfidfvectorizer__input', 'tfidfvectorizer__lowercase', 'tfidfvectorizer__max_df', 'tfidfvectorizer__max_features', 'tfidfvectorizer__min_df', 'tfidfvectorizer__ngram_range', 'tfidfvectorizer__norm', 'tfidfvectorizer__preprocessor', 'tfidfvectorizer__smooth_idf', 'tfidfvectorizer__stop_words', 'tfidfvectorizer__strip_accents', 'tfidfvectorizer__sublinear_tf', 'tfidfvectorizer__token_pattern', 'tfidfvectorizer__tokenizer', 'tfidfvectorizer__use_idf', 'tfidfvectorizer__vocabulary', 'verbose']\n"
          ]
        }
      ]
    },
    {
      "cell_type": "code",
      "source": [
        "paramsNN = {}\n",
        "paramsNN['tfidfvectorizer__min_df'] = [5, 10, 30]\n",
        "paramsNN['tfidfvectorizer__max_df'] = [0.5, 0.75, 0.95]\n",
        "paramsNN['tfidfvectorizer__smooth_idf'] = [True] # [True, False]\n",
        "paramsNN['tfidfvectorizer__sublinear_tf'] = [True] # [True, False]\n",
        "paramsNN['tfidfvectorizer__ngram_range'] = [(1, 1), (1, 2), (1,3)]\n",
        "paramsNN['mlpclassifier__hidden_layer_sizes'] = [(5,10), (20,30), (30,50)]\n",
        "paramsNN['mlpclassifier__learning_rate'] = ['constant', 'invscaling', 'adaptive']\n",
        "paramsNN['mlpclassifier__activation'] = ['logistic', 'tanh', 'relu' ]\n",
        "\n",
        "randNnCV = RandomizedSearchCV(pipeNN, paramsNN, cv=kCV, scoring=metric, verbose=1, n_iter=30, random_state=seed, n_jobs=-1) # , pre_dispatch='2*n_jobs' pre_dispatch min 2* n_jobs\n",
        "randNnCV.fit(x_train, y_train)\n",
        "print(randNnCV.best_score_)\n",
        "print(randNnCV.best_params_)"
      ],
      "metadata": {
        "colab": {
          "base_uri": "https://localhost:8080/"
        },
        "id": "CyOHSAt-blAI",
        "outputId": "3257b437-8a57-43a8-a95b-a52972c103af"
      },
      "execution_count": null,
      "outputs": [
        {
          "output_type": "stream",
          "name": "stdout",
          "text": [
            "Fitting 5 folds for each of 30 candidates, totalling 150 fits\n",
            "0.8248275862068966\n",
            "{'tfidfvectorizer__sublinear_tf': True, 'tfidfvectorizer__smooth_idf': True, 'tfidfvectorizer__ngram_range': (1, 3), 'tfidfvectorizer__min_df': 5, 'tfidfvectorizer__max_df': 0.75, 'mlpclassifier__learning_rate': 'adaptive', 'mlpclassifier__hidden_layer_sizes': (20, 30), 'mlpclassifier__activation': 'logistic'}\n"
          ]
        }
      ]
    },
    {
      "cell_type": "markdown",
      "source": [
        "#Model Selection"
      ],
      "metadata": {
        "id": "__Em2b0gcGxA"
      }
    },
    {
      "cell_type": "code",
      "source": [
        "knn_score = gridCV.cv_results_['mean_test_score'][:10]\n",
        "svm_score = randsvmCV.cv_results_['mean_test_score'][:10]\n",
        "ann_score = randNnCV.cv_results_['mean_test_score'][:10]\n",
        "ann_score"
      ],
      "metadata": {
        "colab": {
          "base_uri": "https://localhost:8080/"
        },
        "id": "1ONvqjofcGcB",
        "outputId": "de798aba-0efc-44db-9b93-ecf094442a96"
      },
      "execution_count": null,
      "outputs": [
        {
          "output_type": "execute_result",
          "data": {
            "text/plain": [
              "array([0.79310345, 0.76827586, 0.8137931 , 0.82068966, 0.80965517,\n",
              "       0.81655172, 0.82344828, 0.7737931 , 0.79172414, 0.75448276])"
            ]
          },
          "metadata": {},
          "execution_count": 91
        }
      ]
    },
    {
      "cell_type": "code",
      "source": [
        "import seaborn as sns, matplotlib.pyplot as plt\n",
        "\n",
        "models = ['kNN', 'SVM', 'NN']\n",
        "scores = [knn_score, svm_score, ann_score]\n",
        "\n",
        "data = {m:s for m,s in zip(models, scores)}\n",
        "for name in data.keys():\n",
        "    print(\"Accuracy %s: %0.2f (+/- %0.2f)\" % (name, data[name].mean(), data[name].std() * 2))\n",
        "\n",
        "sns.boxplot(data=pd.DataFrame(data), orient='h')\n",
        "plt.show()"
      ],
      "metadata": {
        "colab": {
          "base_uri": "https://localhost:8080/",
          "height": 321
        },
        "id": "QkaUHa1SdGz4",
        "outputId": "3a020d70-2f1d-4966-cde1-b9910bc6380f"
      },
      "execution_count": null,
      "outputs": [
        {
          "output_type": "stream",
          "name": "stdout",
          "text": [
            "Accuracy kNN: 0.79 (+/- 0.04)\n",
            "Accuracy SVM: 0.81 (+/- 0.04)\n",
            "Accuracy NN: 0.80 (+/- 0.05)\n"
          ]
        },
        {
          "output_type": "display_data",
          "data": {
            "text/plain": [
              "<Figure size 432x288 with 1 Axes>"
            ],
            "image/png": "[encoded data removed]"
          },
          "metadata": {
            "needs_background": "light"
          }
        }
      ]
    },
    {
      "cell_type": "markdown",
      "source": [
        "#Ensemble Model"
      ],
      "metadata": {
        "id": "dxEYhdFQdOrb"
      }
    },
    {
      "cell_type": "markdown",
      "source": [
        "###“meta-algorithms” : Bagging & Boosting"
      ],
      "metadata": {
        "id": "AnOytfFJdRcz"
      }
    },
    {
      "cell_type": "code",
      "source": [
        "# Contoh Voting (Bagging) di Python\n",
        "# Kita menggunakan semua parameter optimal dari langkah sebelumnya\n",
        "from sklearn.ensemble import AdaBoostClassifier, VotingClassifier\n",
        "\n",
        "x_train, x_test, y_train, y_test = train_test_split(tweet_sentiment_df_example[\"tweet_cleaned\"], tweet_sentiment_df_example[\"label\"],\n",
        "                                                    test_size=testSize, random_state = seed)\n",
        "\n",
        "vsm = TfidfVectorizer(lowercase=True, smooth_idf= True, sublinear_tf=True,\n",
        "                                   ngram_range=(1, 1), max_df=0.95, min_df=10)\n",
        "\n",
        "x_train = vsm.fit_transform(x_train) # \"Fit_Transform\"\n",
        "x_test = vsm.transform(x_test) # Perhatikan disini hanya \"Transform\"\n",
        "\n",
        "kNN = neighbors.KNeighborsClassifier(n_neighbors=10, weights='distance')\n",
        "SVM = svm.SVC(C=0.1, gamma=1, kernel='rbf', decision_function_shape='ovr')\n",
        "ann = MLPClassifier(hidden_layer_sizes=(5, 10), learning_rate='invscaling', activation='logistic')\n",
        "\n",
        "ensemble = VotingClassifier(estimators=[('k-NN', kNN), ('SVM', SVM), ('ANN', ann)], voting='hard')\n",
        "ensemble.fit(x_train, y_train)\n",
        "y_ens = ensemble.score(x_test, y_test)\n",
        "\n",
        "print('Akurasi k-NN = ', gridCV.best_score_)\n",
        "print('Akurasi SVM = ', randsvmCV.best_score_)\n",
        "print('Akurasi ANN = ', randNnCV.best_score_)\n",
        "print('Akurasi Ensemble = ', y_ens)"
      ],
      "metadata": {
        "colab": {
          "base_uri": "https://localhost:8080/"
        },
        "id": "cpMUFrYNdSr7",
        "outputId": "800a8195-c69d-4633-ec77-8c6df6ba54d1"
      },
      "execution_count": null,
      "outputs": [
        {
          "output_type": "stream",
          "name": "stdout",
          "text": [
            "Akurasi k-NN =  0.8262068965517241\n",
            "Akurasi SVM =  0.8234482758620689\n",
            "Akurasi ANN =  0.8248275862068966\n",
            "Akurasi Ensemble =  0.8296703296703297\n"
          ]
        }
      ]
    },
    {
      "cell_type": "code",
      "source": [
        "kNN = neighbors.KNeighborsClassifier(n_neighbors=10, weights='distance')\n",
        "SVM = svm.SVC(C=0.1, gamma=1, kernel='rbf', decision_function_shape='ovr', probability=True)\n",
        "ann = MLPClassifier(hidden_layer_sizes=(5, 10), learning_rate='invscaling', activation='logistic')\n",
        "\n",
        "ensemble = VotingClassifier(estimators=[('k-NN', kNN), ('SVM', SVM), ('ANN', ann)], voting='soft')\n",
        "ensemble.fit(x_train, y_train)\n",
        "y_ens = ensemble.score(x_test, y_test)\n",
        "\n",
        "print('Akurasi k-NN = ', gridCV.best_score_)\n",
        "print('Akurasi SVM = ', randsvmCV.best_score_)\n",
        "print('Akurasi ANN = ', randNnCV.best_score_)\n",
        "print('Akurasi Ensemble = ', y_ens)"
      ],
      "metadata": {
        "colab": {
          "base_uri": "https://localhost:8080/"
        },
        "id": "KSTs-Qhydl05",
        "outputId": "90b98407-648f-48f8-b776-adc4e6e48a6e"
      },
      "execution_count": null,
      "outputs": [
        {
          "output_type": "stream",
          "name": "stdout",
          "text": [
            "Akurasi k-NN =  0.8262068965517241\n",
            "Akurasi SVM =  0.8234482758620689\n",
            "Akurasi ANN =  0.8248275862068966\n",
            "Akurasi Ensemble =  0.8241758241758241\n"
          ]
        }
      ]
    },
    {
      "cell_type": "code",
      "source": [
        "from sklearn.metrics import plot_confusion_matrix\n",
        "\n",
        "fig, ax = plt.subplots(figsize=(10,10))\n",
        "plt.rcParams.update({'font.size': 14})\n",
        "class_names = [\"Negatif\", \"Positif\"]\n",
        "disp = plot_confusion_matrix(ensemble, x_train, y_train, display_labels=class_names, cmap=plt.cm.Blues, ax=ax)# , normalize='true'\n",
        "disp.ax_.set_title(\"Confusion Matrix - Training\")\n",
        "print(disp.confusion_matrix)"
      ],
      "metadata": {
        "colab": {
          "base_uri": "https://localhost:8080/",
          "height": 618
        },
        "id": "8CT8qvafdrJX",
        "outputId": "f175db48-a74a-42ba-f6df-01a6487f4fbd"
      },
      "execution_count": null,
      "outputs": [
        {
          "output_type": "stream",
          "name": "stdout",
          "text": [
            "[[ 86  42]\n",
            " [  0 597]]\n"
          ]
        },
        {
          "output_type": "display_data",
          "data": {
            "text/plain": [
              "<Figure size 720x720 with 2 Axes>"
            ],
            "image/png": "[encoded data removed]"
          },
          "metadata": {
            "needs_background": "light"
          }
        }
      ]
    },
    {
      "cell_type": "code",
      "source": [
        "# Compared to training error to make sure overfitting not happening\n",
        "ensemble_pred = ensemble.predict(x_test)\n",
        "print(classification_report(y_test, ensemble_pred))"
      ],
      "metadata": {
        "colab": {
          "base_uri": "https://localhost:8080/"
        },
        "id": "XRs3X2PzdyTX",
        "outputId": "5feb7725-bd8a-4f76-ce70-88dcfef04f8a"
      },
      "execution_count": null,
      "outputs": [
        {
          "output_type": "stream",
          "name": "stdout",
          "text": [
            "              precision    recall  f1-score   support\n",
            "\n",
            "          -1       0.33      0.03      0.06        31\n",
            "           1       0.83      0.99      0.90       151\n",
            "\n",
            "    accuracy                           0.82       182\n",
            "   macro avg       0.58      0.51      0.48       182\n",
            "weighted avg       0.75      0.82      0.76       182\n",
            "\n"
          ]
        }
      ]
    }
  ]
}